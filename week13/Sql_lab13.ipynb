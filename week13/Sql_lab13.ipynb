{
 "cells": [
  {
   "cell_type": "code",
   "execution_count": 2,
   "id": "39f6fca6-0254-496a-a3cd-abc5e912a0dc",
   "metadata": {},
   "outputs": [],
   "source": [
    "import sqlite3\n",
    "conn = sqlite3.connect('student.db')\n",
    "cursor = conn.cursor()\n",
    "cursor.execute('''CREATE TABLE IF NOT EXISTS students (\n",
    "                    name TEXT,\n",
    "                    roll_number TEXT UNIQUE,\n",
    "                    sap_id TEXT UNIQUE,\n",
    "                    program TEXT,\n",
    "                    semester INTEGER,\n",
    "                    marks INTEGER,\n",
    "                    result TEXT CHECK(result IN('Pass','Fail'))\n",
    "                )''')\n",
    "conn.commit()"
   ]
  },
  {
   "cell_type": "code",
   "execution_count": 3,
   "id": "aca9a1e1-a3fc-441b-b539-64ed8cc1de42",
   "metadata": {},
   "outputs": [
    {
     "data": {
      "text/plain": [
       "<sqlite3.Cursor at 0x770408111fc0>"
      ]
     },
     "execution_count": 3,
     "metadata": {},
     "output_type": "execute_result"
    }
   ],
   "source": [
    "cursor.execute(\"INSERT INTO students (name, roll_number, sap_id, program, semester, marks, result) VALUES (?, ?, ?, ?, ?, ?, ?)\", \n",
    "\n",
    "    ('John Doe', 111, 'SAP011', 'B.Tech', 2, 88, 'Pass'))\n",
    " "
   ]
  },
  {
   "cell_type": "code",
   "execution_count": 4,
   "id": "f290a8ba-ea25-41fb-8eff-5987d978f472",
   "metadata": {},
   "outputs": [
    {
     "name": "stdout",
     "output_type": "stream",
     "text": [
      "Student:  [('John Doe', '111', 'SAP011', 'B.Tech', 2, 88, 'Pass')]\n"
     ]
    }
   ],
   "source": [
    "cursor.execute(\"SELECT * FROM students\")\n",
    "students=cursor.fetchall()\n",
    "print(\"Student: \",students)"
   ]
  },
  {
   "cell_type": "code",
   "execution_count": 5,
   "id": "ee92edf3-ed23-4636-b297-47ec52eb0445",
   "metadata": {},
   "outputs": [
    {
     "name": "stdout",
     "output_type": "stream",
     "text": [
      "updated Student:  [('John Doe', '111', 'SAP011', 'B.Tech', 2, 60, 'Pass')]\n"
     ]
    }
   ],
   "source": [
    "cursor.execute(\"UPDATE students SET marks=?,result=? where roll_number=?\",(60,'Pass',111))\n",
    "conn.commit()\n",
    "cursor.execute(\"SELECT * FROM students\")\n",
    "students=cursor.fetchall()\n",
    "print(\"updated Student: \",students)"
   ]
  },
  {
   "cell_type": "code",
   "execution_count": 6,
   "id": "d57d187e-f9b7-434c-8f37-fa17b5697782",
   "metadata": {},
   "outputs": [
    {
     "name": "stdout",
     "output_type": "stream",
     "text": [
      "After deletion Student:  []\n"
     ]
    }
   ],
   "source": [
    "cursor.execute(\"DELETE from students where roll_number=?\",(111,))\n",
    "conn.commit()\n",
    "cursor.execute(\"SELECT * FROM students\")\n",
    "students=cursor.fetchall()\n",
    "print(\"After deletion Student: \",students)\n",
    "conn.close()"
   ]
  },
  {
   "cell_type": "code",
   "execution_count": 7,
   "id": "a15b40d7-3820-4d7d-8bff-7ef38a3c5829",
   "metadata": {},
   "outputs": [
    {
     "name": "stdin",
     "output_type": "stream",
     "text": [
      "Enter number of students:  2\n",
      "Enter name:  tejas\n",
      "Enter roll number:  46\n",
      "Enter SAP ID:  16\n",
      "Enter program:  mca\n",
      "Enter semester:  2\n",
      "Enter marks:  99\n"
     ]
    },
    {
     "name": "stdout",
     "output_type": "stream",
     "text": [
      "Student tejas added successfully!\n"
     ]
    },
    {
     "name": "stdin",
     "output_type": "stream",
     "text": [
      "Enter name:  vaibh\n",
      "Enter roll number:  33\n",
      "Enter SAP ID:  16\n",
      "Enter program:  mca\n",
      "Enter semester:  2\n",
      "Enter marks:  99\n"
     ]
    },
    {
     "ename": "IntegrityError",
     "evalue": "UNIQUE constraint failed: student_records.sap_id",
     "output_type": "error",
     "traceback": [
      "\u001b[0;31m---------------------------------------------------------------------------\u001b[0m",
      "\u001b[0;31mIntegrityError\u001b[0m                            Traceback (most recent call last)",
      "Cell \u001b[0;32mIn[7], line 34\u001b[0m\n\u001b[1;32m     31\u001b[0m result \u001b[38;5;241m=\u001b[39m \u001b[38;5;124m\"\u001b[39m\u001b[38;5;124mPass\u001b[39m\u001b[38;5;124m\"\u001b[39m \u001b[38;5;28;01mif\u001b[39;00m marks \u001b[38;5;241m>\u001b[39m\u001b[38;5;241m=\u001b[39m \u001b[38;5;241m50\u001b[39m \u001b[38;5;28;01melse\u001b[39;00m \u001b[38;5;124m\"\u001b[39m\u001b[38;5;124mFail\u001b[39m\u001b[38;5;124m\"\u001b[39m\n\u001b[1;32m     33\u001b[0m \u001b[38;5;66;03m# Insert data into the table\u001b[39;00m\n\u001b[0;32m---> 34\u001b[0m cursor\u001b[38;5;241m.\u001b[39mexecute(\u001b[38;5;124m\"\u001b[39m\u001b[38;5;124mINSERT INTO student_records (name, roll_number, sap_id, program, semester, marks, result) VALUES (?, ?, ?, ?, ?, ?, ?)\u001b[39m\u001b[38;5;124m\"\u001b[39m, \n\u001b[1;32m     35\u001b[0m                (name, roll_number, sap_id, program, semester, marks, result))\n\u001b[1;32m     36\u001b[0m conn\u001b[38;5;241m.\u001b[39mcommit()\n\u001b[1;32m     37\u001b[0m \u001b[38;5;28mprint\u001b[39m(\u001b[38;5;124mf\u001b[39m\u001b[38;5;124m\"\u001b[39m\u001b[38;5;124mStudent \u001b[39m\u001b[38;5;132;01m{\u001b[39;00mname\u001b[38;5;132;01m}\u001b[39;00m\u001b[38;5;124m added successfully!\u001b[39m\u001b[38;5;124m\"\u001b[39m)\n",
      "\u001b[0;31mIntegrityError\u001b[0m: UNIQUE constraint failed: student_records.sap_id"
     ]
    }
   ],
   "source": [
    "import sqlite3\n",
    "\n",
    "# Connect to SQLite database\n",
    "conn = sqlite3.connect('stud.db')\n",
    "cursor = conn.cursor()\n",
    "\n",
    "# Create table if it doesn't exist\n",
    "cursor.execute('''CREATE TABLE IF NOT EXISTS student_records (\n",
    "                    name TEXT,\n",
    "                    roll_number TEXT UNIQUE,\n",
    "                    sap_id TEXT UNIQUE,\n",
    "                    program TEXT,\n",
    "                    semester INTEGER,\n",
    "                    marks INTEGER,\n",
    "                    result TEXT CHECK(result IN('Pass', 'Fail'))\n",
    "                )''')\n",
    "conn.commit()\n",
    "\n",
    "# Take user input for number of students\n",
    "num_students = int(input(\"Enter number of students: \"))\n",
    "\n",
    "for i in range(num_students):\n",
    "    name = input(\"Enter name: \")\n",
    "    roll_number = input(\"Enter roll number: \")\n",
    "    sap_id = input(\"Enter SAP ID: \")\n",
    "    program = input(\"Enter program: \")\n",
    "    semester = int(input(\"Enter semester: \"))\n",
    "    marks = int(input(\"Enter marks: \"))\n",
    "\n",
    "    # Assign \"Pass\" or \"Fail\" automatically based on marks\n",
    "    result = \"Pass\" if marks >= 50 else \"Fail\"\n",
    "\n",
    "    # Insert data into the table\n",
    "    cursor.execute(\"INSERT INTO student_records (name, roll_number, sap_id, program, semester, marks, result) VALUES (?, ?, ?, ?, ?, ?, ?)\", \n",
    "                   (name, roll_number, sap_id, program, semester, marks, result))\n",
    "    conn.commit()\n",
    "    print(f\"Student {name} added successfully!\")\n",
    "\n",
    "# Close the connection\n",
    "conn.close()\n"
   ]
  },
  {
   "cell_type": "code",
   "execution_count": 8,
   "id": "5f72e65a-cd2f-48d2-9b87-c1a9c0f129b4",
   "metadata": {},
   "outputs": [
    {
     "name": "stdout",
     "output_type": "stream",
     "text": [
      "\n",
      "Menu:\n",
      "1. Add new student\n",
      "2. Update student details\n",
      "3. Delete student\n",
      "4. View all students\n",
      "5. Exit\n"
     ]
    },
    {
     "name": "stdin",
     "output_type": "stream",
     "text": [
      "Enter your choice:  1\n"
     ]
    },
    {
     "name": "stdout",
     "output_type": "stream",
     "text": [
      "Enter student details:\n"
     ]
    },
    {
     "name": "stdin",
     "output_type": "stream",
     "text": [
      "Name:  tejas\n",
      "Roll Number:  46\n",
      "SAP ID:  16\n",
      "Program (e.g., MCA, BTech):  mca\n",
      "Semester (e.g., 1, 2, 3...):  1\n",
      "Marks:  66\n",
      "Result (Pass/Fail):  Pass\n"
     ]
    },
    {
     "name": "stdout",
     "output_type": "stream",
     "text": [
      "Student record inserted successfully!\n",
      "\n",
      "Menu:\n",
      "1. Add new student\n",
      "2. Update student details\n",
      "3. Delete student\n",
      "4. View all students\n",
      "5. Exit\n"
     ]
    },
    {
     "name": "stdin",
     "output_type": "stream",
     "text": [
      "Enter your choice:  2\n",
      "Enter the roll number of the student you want to update:  1\n"
     ]
    },
    {
     "name": "stdout",
     "output_type": "stream",
     "text": [
      "Student with that roll number not found.\n",
      "\n",
      "Menu:\n",
      "1. Add new student\n",
      "2. Update student details\n",
      "3. Delete student\n",
      "4. View all students\n",
      "5. Exit\n"
     ]
    },
    {
     "name": "stdin",
     "output_type": "stream",
     "text": [
      "Enter your choice:  2\n",
      "Enter the roll number of the student you want to update:  46\n"
     ]
    },
    {
     "name": "stdout",
     "output_type": "stream",
     "text": [
      "Current data for roll number 46: (1, 'tejas', '46', '16', 'mca', 1, 66, 'Pass')\n"
     ]
    },
    {
     "name": "stdin",
     "output_type": "stream",
     "text": [
      "Which field would you like to update? (marks/result):  marks\n",
      "Enter the new marks:  88\n"
     ]
    },
    {
     "name": "stdout",
     "output_type": "stream",
     "text": [
      "Student data updated successfully!\n",
      "\n",
      "Menu:\n",
      "1. Add new student\n",
      "2. Update student details\n",
      "3. Delete student\n",
      "4. View all students\n",
      "5. Exit\n"
     ]
    },
    {
     "name": "stdin",
     "output_type": "stream",
     "text": [
      "Enter your choice:  5\n"
     ]
    },
    {
     "name": "stdout",
     "output_type": "stream",
     "text": [
      "Exiting program...\n"
     ]
    }
   ],
   "source": [
    "import sqlite3\n",
    " \n",
    "# Function to connect to the database and create the table if it doesn't exist\n",
    "\n",
    "def create_table():\n",
    "\n",
    "    conn = sqlite3.connect('students.db')\n",
    "\n",
    "    cursor = conn.cursor()\n",
    "\n",
    "    cursor.execute('''CREATE TABLE IF NOT EXISTS students (\n",
    "\n",
    "                         id INTEGER PRIMARY KEY AUTOINCREMENT,\n",
    "\n",
    "                         name TEXT,\n",
    "\n",
    "                         roll_number TEXT UNIQUE,\n",
    "\n",
    "                         sap_id TEXT UNIQUE,\n",
    "\n",
    "                         program TEXT,\n",
    "\n",
    "                         semester INTEGER,\n",
    "\n",
    "                         marks INTEGER,\n",
    "\n",
    "                         result TEXT CHECK(result IN('Pass', 'Fail'))\n",
    "\n",
    "                         )''')\n",
    "\n",
    "    conn.commit()\n",
    "\n",
    "    return conn, cursor\n",
    " \n",
    "def insert_student(cursor, conn, name, roll_number, sap_id, program, semester, marks, result):\n",
    "\n",
    "    cursor.execute(\"INSERT INTO students (name, roll_number, sap_id, program, semester, marks, result) VALUES (?, ?, ?, ?, ?, ?, ?)\", \n",
    "\n",
    "                   (name, roll_number, sap_id, program, semester, marks, result))\n",
    "\n",
    "    conn.commit()\n",
    "\n",
    "    print(\"Student record inserted successfully!\")\n",
    " \n",
    "def get_student_input():\n",
    "\n",
    "    print(\"Enter student details:\")\n",
    " \n",
    "    name = input(\"Name: \")\n",
    "\n",
    "    roll_number = input(\"Roll Number: \")\n",
    "\n",
    "    sap_id = input(\"SAP ID: \")\n",
    "\n",
    "    program = input(\"Program (e.g., MCA, BTech): \")\n",
    "\n",
    "    semester = int(input(\"Semester (e.g., 1, 2, 3...): \"))\n",
    "\n",
    "    marks = int(input(\"Marks: \"))\n",
    "\n",
    "    result = input(\"Result (Pass/Fail): \").capitalize()\n",
    " \n",
    "    while result not in ['Pass', 'Fail']:\n",
    "\n",
    "        print(\"Invalid result. Please enter 'Pass' or 'Fail'.\")\n",
    "\n",
    "        result = input(\"Result (Pass/Fail): \").capitalize()\n",
    "\n",
    "    return name, roll_number, sap_id, program, semester, marks, result\n",
    " \n",
    "def update_student(cursor, conn):\n",
    "\n",
    "    roll_number = input(\"Enter the roll number of the student you want to update: \")\n",
    "\n",
    "    cursor.execute(\"SELECT * FROM students WHERE roll_number = ?\", (roll_number,))\n",
    "\n",
    "    student = cursor.fetchone()\n",
    "\n",
    "    if student:\n",
    "\n",
    "        print(f\"Current data for roll number {roll_number}: {student}\")\n",
    "\n",
    "        field_to_update = input(\"Which field would you like to update? (marks/result): \").lower()\n",
    "\n",
    "        if field_to_update == 'marks':\n",
    "\n",
    "            new_marks = int(input(\"Enter the new marks: \"))\n",
    "\n",
    "            cursor.execute(\"UPDATE students SET marks = ? WHERE roll_number = ?\", (new_marks, roll_number))\n",
    "\n",
    "        elif field_to_update == 'result':\n",
    "\n",
    "            new_result = input(\"Enter the new result (Pass/Fail): \").capitalize()\n",
    "\n",
    "            while new_result not in ['Pass', 'Fail']:\n",
    "\n",
    "                print(\"Invalid result. Please enter 'Pass' or 'Fail'.\")\n",
    "\n",
    "                new_result = input(\"Enter the new result (Pass/Fail): \").capitalize()\n",
    "\n",
    "            cursor.execute(\"UPDATE students SET result = ? WHERE roll_number = ?\", (new_result, roll_number))\n",
    "\n",
    "        else:\n",
    "\n",
    "            print(\"Invalid field choice. Please enter 'marks' or 'result'.\")\n",
    "\n",
    "            return\n",
    " \n",
    "        conn.commit()\n",
    "\n",
    "        print(\"Student data updated successfully!\")\n",
    "\n",
    "    else:\n",
    "\n",
    "        print(\"Student with that roll number not found.\")\n",
    " \n",
    "def delete_student(cursor, conn):\n",
    "\n",
    "    roll_number = input(\"Enter the roll number of the student you want to delete: \")\n",
    " \n",
    "    cursor.execute(\"SELECT * FROM students WHERE roll_number = ?\", (roll_number,))\n",
    "\n",
    "    student = cursor.fetchone()\n",
    "\n",
    "    if student:\n",
    "\n",
    "        cursor.execute(\"DELETE FROM students WHERE roll_number = ?\", (roll_number,))\n",
    "\n",
    "        conn.commit()\n",
    "\n",
    "        print(f\"Student with roll number {roll_number} deleted successfully!\")\n",
    "\n",
    "    else:\n",
    "\n",
    "        print(\"Student with that roll number not found.\")\n",
    " \n",
    "def display_all_students(cursor):\n",
    "\n",
    "    cursor.execute(\"SELECT * FROM students\")\n",
    "\n",
    "    students = cursor.fetchall()\n",
    "\n",
    "    print(\"\\nAll Students in Database:\")\n",
    "\n",
    "    for student in students:\n",
    "\n",
    "        print(student)\n",
    " \n",
    "def main():\n",
    "\n",
    "    conn, cursor = create_table()\n",
    " \n",
    "    while True:\n",
    "\n",
    "        print(\"\\nMenu:\")\n",
    "\n",
    "        print(\"1. Add new student\")\n",
    "\n",
    "        print(\"2. Update student details\")\n",
    "\n",
    "        print(\"3. Delete student\")\n",
    "\n",
    "        print(\"4. View all students\")\n",
    "\n",
    "        print(\"5. Exit\")\n",
    "\n",
    "        choice = input(\"Enter your choice: \")\n",
    " \n",
    "        if choice == '1':\n",
    "\n",
    "            name, roll_number, sap_id, program, semester, marks, result = get_student_input()\n",
    "\n",
    "            insert_student(cursor, conn, name, roll_number, sap_id, program, semester, marks, result)\n",
    "\n",
    "        elif choice == '2':\n",
    "\n",
    "            update_student(cursor, conn)\n",
    "\n",
    "        elif choice == '3':\n",
    "\n",
    "            delete_student(cursor, conn)\n",
    "\n",
    "        elif choice == '4':\n",
    "\n",
    "            display_all_students(cursor)\n",
    "\n",
    "        elif choice == '5':\n",
    "\n",
    "            print(\"Exiting program...\")\n",
    "\n",
    "            break\n",
    "\n",
    "        else:\n",
    "\n",
    "            print(\"Invalid choice, please enter a valid option.\")\n",
    " \n",
    "    conn.close()\n",
    " \n",
    "if __name__ == \"__main__\":\n",
    "\n",
    "    main()\n",
    "\n",
    " "
   ]
  },
  {
   "cell_type": "code",
   "execution_count": null,
   "id": "f2a92f0b-eeb9-4d4d-b9c4-a6dcb5c6da1b",
   "metadata": {},
   "outputs": [],
   "source": []
  },
  {
   "cell_type": "code",
   "execution_count": null,
   "id": "f6e4515f-65b3-4080-87fd-a738e41fbe8d",
   "metadata": {},
   "outputs": [],
   "source": []
  },
  {
   "cell_type": "code",
   "execution_count": null,
   "id": "7fa6a59b-6125-4146-9481-811a22ad4310",
   "metadata": {},
   "outputs": [],
   "source": []
  }
 ],
 "metadata": {
  "kernelspec": {
   "display_name": "Python 3 (ipykernel)",
   "language": "python",
   "name": "python3"
  },
  "language_info": {
   "codemirror_mode": {
    "name": "ipython",
    "version": 3
   },
   "file_extension": ".py",
   "mimetype": "text/x-python",
   "name": "python",
   "nbconvert_exporter": "python",
   "pygments_lexer": "ipython3",
   "version": "3.12.7"
  }
 },
 "nbformat": 4,
 "nbformat_minor": 5
}
