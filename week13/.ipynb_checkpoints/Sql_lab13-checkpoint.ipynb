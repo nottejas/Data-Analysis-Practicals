{
 "cells": [
  {
   "cell_type": "code",
   "execution_count": 4,
   "id": "39f6fca6-0254-496a-a3cd-abc5e912a0dc",
   "metadata": {},
   "outputs": [],
   "source": [
    "conn = sqlite3.connect('student.db')\n",
    "cursor = conn.cursor()\n",
    "cursor.execute('''CREATE TABLE IF NOT EXISTS students (\n",
    "                    name TEXT,\n",
    "                    roll_number TEXT UNIQUE,\n",
    "                    sap_id TEXT UNIQUE,\n",
    "                    program TEXT,\n",
    "                    semester INTEGER,\n",
    "                    marks INTEGER,\n",
    "                    result TEXT CHECK(result IN('Pass','Fail'))\n",
    "                )''')\n",
    "conn.commit()"
   ]
  },
  {
   "cell_type": "code",
   "execution_count": 21,
   "id": "aca9a1e1-a3fc-441b-b539-64ed8cc1de42",
   "metadata": {},
   "outputs": [
    {
     "ename": "IntegrityError",
     "evalue": "UNIQUE constraint failed: students.sap_id",
     "output_type": "error",
     "traceback": [
      "\u001b[1;31m---------------------------------------------------------------------------\u001b[0m",
      "\u001b[1;31mIntegrityError\u001b[0m                            Traceback (most recent call last)",
      "Cell \u001b[1;32mIn[21], line 1\u001b[0m\n\u001b[1;32m----> 1\u001b[0m \u001b[43mcursor\u001b[49m\u001b[38;5;241;43m.\u001b[39;49m\u001b[43mexecute\u001b[49m\u001b[43m(\u001b[49m\u001b[38;5;124;43m\"\u001b[39;49m\u001b[38;5;124;43mINSERT INTO students (name, roll_number, sap_id, program, semester, marks, result) VALUES (?, ?, ?, ?, ?, ?, ?)\u001b[39;49m\u001b[38;5;124;43m\"\u001b[39;49m\u001b[43m,\u001b[49m\u001b[43m \u001b[49m\n\u001b[0;32m      2\u001b[0m \n\u001b[0;32m      3\u001b[0m \u001b[43m    \u001b[49m\u001b[43m(\u001b[49m\u001b[38;5;124;43m'\u001b[39;49m\u001b[38;5;124;43mJohn Doe\u001b[39;49m\u001b[38;5;124;43m'\u001b[39;49m\u001b[43m,\u001b[49m\u001b[43m \u001b[49m\u001b[38;5;241;43m111\u001b[39;49m\u001b[43m,\u001b[49m\u001b[43m \u001b[49m\u001b[38;5;124;43m'\u001b[39;49m\u001b[38;5;124;43mSAP011\u001b[39;49m\u001b[38;5;124;43m'\u001b[39;49m\u001b[43m,\u001b[49m\u001b[43m \u001b[49m\u001b[38;5;124;43m'\u001b[39;49m\u001b[38;5;124;43mB.Tech\u001b[39;49m\u001b[38;5;124;43m'\u001b[39;49m\u001b[43m,\u001b[49m\u001b[43m \u001b[49m\u001b[38;5;241;43m2\u001b[39;49m\u001b[43m,\u001b[49m\u001b[43m \u001b[49m\u001b[38;5;241;43m88\u001b[39;49m\u001b[43m,\u001b[49m\u001b[43m \u001b[49m\u001b[38;5;124;43m'\u001b[39;49m\u001b[38;5;124;43mPass\u001b[39;49m\u001b[38;5;124;43m'\u001b[39;49m\u001b[43m)\u001b[49m\u001b[43m)\u001b[49m\n",
      "\u001b[1;31mIntegrityError\u001b[0m: UNIQUE constraint failed: students.sap_id"
     ]
    }
   ],
   "source": [
    "cursor.execute(\"INSERT INTO students (name, roll_number, sap_id, program, semester, marks, result) VALUES (?, ?, ?, ?, ?, ?, ?)\", \n",
    "\n",
    "    ('John Doe', 111, 'SAP011', 'B.Tech', 2, 88, 'Pass'))\n",
    " "
   ]
  },
  {
   "cell_type": "code",
   "execution_count": 22,
   "id": "f290a8ba-ea25-41fb-8eff-5987d978f472",
   "metadata": {},
   "outputs": [
    {
     "name": "stdout",
     "output_type": "stream",
     "text": [
      "Student:  [('John Doe', '111', 'SAP011', 'B.Tech', 2, 60, 'Pass')]\n"
     ]
    }
   ],
   "source": [
    "cursor.execute(\"SELECT * FROM students\")\n",
    "students=cursor.fetchall()\n",
    "print(\"Student: \",students)"
   ]
  },
  {
   "cell_type": "code",
   "execution_count": 23,
   "id": "ee92edf3-ed23-4636-b297-47ec52eb0445",
   "metadata": {},
   "outputs": [
    {
     "name": "stdout",
     "output_type": "stream",
     "text": [
      "updated Student:  [('John Doe', '111', 'SAP011', 'B.Tech', 2, 60, 'Pass')]\n"
     ]
    }
   ],
   "source": [
    "cursor.execute(\"UPDATE students SET marks=?,result=? where roll_number=?\",(60,'Pass',111))\n",
    "conn.commit()\n",
    "cursor.execute(\"SELECT * FROM students\")\n",
    "students=cursor.fetchall()\n",
    "print(\"updated Student: \",students)"
   ]
  },
  {
   "cell_type": "code",
   "execution_count": 25,
   "id": "d57d187e-f9b7-434c-8f37-fa17b5697782",
   "metadata": {},
   "outputs": [
    {
     "name": "stdout",
     "output_type": "stream",
     "text": [
      "After deletion Student:  []\n"
     ]
    }
   ],
   "source": [
    "cursor.execute(\"DELETE from students where roll_number=?\",(111,))\n",
    "conn.commit()\n",
    "cursor.execute(\"SELECT * FROM students\")\n",
    "students=cursor.fetchall()\n",
    "print(\"After deletion Student: \",students)\n",
    "conn.close()"
   ]
  },
  {
   "cell_type": "code",
   "execution_count": 1,
   "id": "a15b40d7-3820-4d7d-8bff-7ef38a3c5829",
   "metadata": {},
   "outputs": [
    {
     "name": "stdin",
     "output_type": "stream",
     "text": [
      "Enter number of students:  1\n",
      "Enter name:  vbvv\n",
      "Enter roll number:  a033\n",
      "Enter SAP ID:  7016\n",
      "Enter program:  mca\n",
      "Enter semester:  2\n",
      "Enter marks:  70\n"
     ]
    },
    {
     "name": "stdout",
     "output_type": "stream",
     "text": [
      "Student vbvv added successfully!\n"
     ]
    }
   ],
   "source": [
    "import sqlite3\n",
    "\n",
    "# Connect to SQLite database\n",
    "conn = sqlite3.connect('stud.db')\n",
    "cursor = conn.cursor()\n",
    "\n",
    "# Create table if it doesn't exist\n",
    "cursor.execute('''CREATE TABLE IF NOT EXISTS student_records (\n",
    "                    name TEXT,\n",
    "                    roll_number TEXT UNIQUE,\n",
    "                    sap_id TEXT UNIQUE,\n",
    "                    program TEXT,\n",
    "                    semester INTEGER,\n",
    "                    marks INTEGER,\n",
    "                    result TEXT CHECK(result IN('Pass', 'Fail'))\n",
    "                )''')\n",
    "conn.commit()\n",
    "\n",
    "# Take user input for number of students\n",
    "num_students = int(input(\"Enter number of students: \"))\n",
    "\n",
    "for i in range(num_students):\n",
    "    name = input(\"Enter name: \")\n",
    "    roll_number = input(\"Enter roll number: \")\n",
    "    sap_id = input(\"Enter SAP ID: \")\n",
    "    program = input(\"Enter program: \")\n",
    "    semester = int(input(\"Enter semester: \"))\n",
    "    marks = int(input(\"Enter marks: \"))\n",
    "\n",
    "    # Assign \"Pass\" or \"Fail\" automatically based on marks\n",
    "    result = \"Pass\" if marks >= 50 else \"Fail\"\n",
    "\n",
    "    # Insert data into the table\n",
    "    cursor.execute(\"INSERT INTO student_records (name, roll_number, sap_id, program, semester, marks, result) VALUES (?, ?, ?, ?, ?, ?, ?)\", \n",
    "                   (name, roll_number, sap_id, program, semester, marks, result))\n",
    "    conn.commit()\n",
    "    print(f\"Student {name} added successfully!\")\n",
    "\n",
    "# Close the connection\n",
    "conn.close()\n"
   ]
  },
  {
   "cell_type": "code",
   "execution_count": null,
   "id": "5f72e65a-cd2f-48d2-9b87-c1a9c0f129b4",
   "metadata": {},
   "outputs": [],
   "source": []
  },
  {
   "cell_type": "code",
   "execution_count": null,
   "id": "f2a92f0b-eeb9-4d4d-b9c4-a6dcb5c6da1b",
   "metadata": {},
   "outputs": [],
   "source": []
  },
  {
   "cell_type": "code",
   "execution_count": null,
   "id": "f6e4515f-65b3-4080-87fd-a738e41fbe8d",
   "metadata": {},
   "outputs": [],
   "source": []
  },
  {
   "cell_type": "code",
   "execution_count": null,
   "id": "7fa6a59b-6125-4146-9481-811a22ad4310",
   "metadata": {},
   "outputs": [],
   "source": []
  }
 ],
 "metadata": {
  "kernelspec": {
   "display_name": "Python 3 (ipykernel)",
   "language": "python",
   "name": "python3"
  },
  "language_info": {
   "codemirror_mode": {
    "name": "ipython",
    "version": 3
   },
   "file_extension": ".py",
   "mimetype": "text/x-python",
   "name": "python",
   "nbconvert_exporter": "python",
   "pygments_lexer": "ipython3",
   "version": "3.13.1"
  }
 },
 "nbformat": 4,
 "nbformat_minor": 5
}
