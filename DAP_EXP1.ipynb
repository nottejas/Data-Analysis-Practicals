{
 "cells": [
  {
   "cell_type": "code",
   "execution_count": 3,
   "id": "bdb5fdea-abdc-4688-be8b-a8e635794169",
   "metadata": {},
   "outputs": [
    {
     "name": "stdout",
     "output_type": "stream",
     "text": [
      "5\n"
     ]
    }
   ],
   "source": [
    "# What is the result of the following operation in Python?\n",
    "print(3+2*2**2//3)"
   ]
  },
  {
   "cell_type": "code",
   "execution_count": 4,
   "id": "953ef72e-63c9-492a-8f7d-ff66beb6e9f2",
   "metadata": {},
   "outputs": [
    {
     "name": "stdout",
     "output_type": "stream",
     "text": [
      "12\n"
     ]
    }
   ],
   "source": [
    "# The variables A=‘1’ and B = ’2’, What is the result of A+B?\n",
    "a = '1' \n",
    "b = '2'\n",
    "print(a+b)"
   ]
  },
  {
   "cell_type": "code",
   "execution_count": 5,
   "id": "966a8856-9b27-41c8-b5ec-c5b8544e578f",
   "metadata": {},
   "outputs": [
    {
     "name": "stdout",
     "output_type": "stream",
     "text": [
      "Hi\n",
      "Mike\n"
     ]
    }
   ],
   "source": [
    "# What is the output of the following lines of code?\n",
    "x = 1\n",
    "if(x!=1):\n",
    "    print(\"Hello\")\n",
    "else:\n",
    "    print(\"Hi\")\n",
    "print(\"Mike\")\n",
    "print(\"Hellp\")\n"
   ]
  },
  {
   "cell_type": "code",
   "execution_count": 9,
   "id": "e34fa5c8-bbba-4da8-9316-153a4dbaa176",
   "metadata": {},
   "outputs": [
    {
     "name": "stdout",
     "output_type": "stream",
     "text": [
      "1\n",
      "2\n",
      "3\n"
     ]
    }
   ],
   "source": [
    "# How many iterations are performed in the following loop and what is the output\n",
    "for n in range(3):\n",
    "    print(n+1)"
   ]
  },
  {
   "cell_type": "code",
   "execution_count": 9,
   "id": "f2ab41be-b053-4465-97cf-dd154ae0c6c5",
   "metadata": {},
   "outputs": [
    {
     "name": "stdout",
     "output_type": "stream",
     "text": [
      "-5\n"
     ]
    }
   ],
   "source": [
    "# What is g(25) – g(24), given the definition of g below?\n",
    "def g(n): \n",
    "    s=0\n",
    "    for i in range(1, n+1):\n",
    "        if n%i == 0:\n",
    "           s = s+1\n",
    "    return(s)\n",
    "\n",
    "print(g(25) - g(24))"
   ]
  },
  {
   "cell_type": "code",
   "execution_count": 1,
   "id": "524d29b6-1554-4cfd-9f52-83e10f081642",
   "metadata": {},
   "outputs": [
    {
     "name": "stdin",
     "output_type": "stream",
     "text": [
      "Enter a number to reverse:  387\n"
     ]
    },
    {
     "name": "stdout",
     "output_type": "stream",
     "text": [
      "Reversed number: 783\n"
     ]
    }
   ],
   "source": [
    "#Task 2:  Write a python program to reverse a given number\n",
    "def reverse_number(num):\n",
    "    reversed_num = 0\n",
    "    while num > 0:\n",
    "        digit = num % 10\n",
    "        reversed_num = reversed_num * 10 + digit\n",
    "        num //= 10\n",
    "    return reversed_num\n",
    "\n",
    "# Take input from the user\n",
    "num = int(input(\"Enter a number to reverse: \"))\n",
    "reversed_num = reverse_number(num)\n",
    "print(\"Reversed number:\", reversed_num)\n"
   ]
  },
  {
   "cell_type": "code",
   "execution_count": 2,
   "id": "b0bb0228-939e-4f69-a587-660eb7e4e518",
   "metadata": {},
   "outputs": [
    {
     "name": "stdin",
     "output_type": "stream",
     "text": [
      "Enter the num of terms 7\n"
     ]
    },
    {
     "name": "stdout",
     "output_type": "stream",
     "text": [
      "Fibonacci sequence: \n",
      "0\n",
      "1\n",
      "1\n",
      "2\n",
      "3\n",
      "5\n",
      "8\n"
     ]
    }
   ],
   "source": [
    "# Task 3: Write a program to print Fibonacci series of a number entered by user\n",
    "def fibonacci(n):\n",
    "    a, b = 0, 1\n",
    "    for _ in range(n):\n",
    "        print(a)\n",
    "        a, b = b, a + b\n",
    "\n",
    "def main():\n",
    "    terms = int(input(\"Enter the num of terms\"))\n",
    "    print(\"Fibonacci sequence: \")\n",
    "    fibonacci(terms)\n",
    "    \n",
    "if __name__ == \"__main__\":\n",
    "    main()"
   ]
  },
  {
   "cell_type": "code",
   "execution_count": 3,
   "id": "c8fffd5e-b86f-4bea-ab1b-2e56cb41d966",
   "metadata": {},
   "outputs": [
    {
     "name": "stdin",
     "output_type": "stream",
     "text": [
      "Enter a number:  10\n"
     ]
    },
    {
     "name": "stdout",
     "output_type": "stream",
     "text": [
      "Sum of odd numbers: 25\n"
     ]
    }
   ],
   "source": [
    "# Task 4: Write a python program to read a number n and print the sum of odd natural numbers between the range of 1 to n both inclusive\n",
    "def sumOfOdd(n):\n",
    "    total = 0\n",
    "    for i in range(1, n + 1):\n",
    "        if i % 2 != 0:\n",
    "            total += i\n",
    "    return total\n",
    "\n",
    "n = int(input(\"Enter a number: \"))\n",
    "print(\"Sum of odd numbers:\", sumOfOdd(n))\n"
   ]
  },
  {
   "cell_type": "code",
   "execution_count": 4,
   "id": "14499888-c0b5-4685-b4c0-0e201897c17d",
   "metadata": {},
   "outputs": [
    {
     "name": "stdin",
     "output_type": "stream",
     "text": [
      "Enter a number:  145\n"
     ]
    },
    {
     "name": "stdout",
     "output_type": "stream",
     "text": [
      "The number is a strong number.\n"
     ]
    }
   ],
   "source": [
    "# Task 5: Write a Program to find whether a given number is Strong Numbers\n",
    "sum1 = 0\n",
    "num = int(input(\"Enter a number: \"))\n",
    "temp = num\n",
    "\n",
    "while num:\n",
    "    r = num % 10  \n",
    "    f = 1\n",
    "    i = 1\n",
    "    while i <= r:\n",
    "        f = f * i  \n",
    "        i = i + 1\n",
    "    sum1 = sum1 + f \n",
    "    num = num // 10 \n",
    "\n",
    "if sum1 == temp: \n",
    "    print(\"The number is a strong number.\")\n",
    "else:\n",
    "    print(\"The number is not a strong number.\")"
   ]
  },
  {
   "cell_type": "code",
   "execution_count": 6,
   "id": "93426924-3d40-481a-8c09-a4396199e4db",
   "metadata": {},
   "outputs": [
    {
     "name": "stdin",
     "output_type": "stream",
     "text": [
      "Enter a, b, c:  1 3 2\n"
     ]
    },
    {
     "name": "stdout",
     "output_type": "stream",
     "text": [
      "The roots are real: -1.000 and -2.000\n"
     ]
    }
   ],
   "source": [
    "# Task 6: Write a python Program to compute the roots of the equation ax2 + bx + c = 0 and print using three-decimal places. \n",
    "import math\n",
    "\n",
    "a, b, c = map(float, input(\"Enter a, b, c: \").split())\n",
    "\n",
    "if a == 0 and b == 0:\n",
    "    print(\"No solution: a & b both zero\")\n",
    "elif a == 0:\n",
    "    root = -c / b\n",
    "    print(f\"Linear equation: root={root:.3f}\")\n",
    "else:\n",
    "    discriminant = b**2 - 4 * a * c\n",
    "\n",
    "    if discriminant >= 0:\n",
    "        root1 = (-b + math.sqrt(discriminant)) / (2 * a)\n",
    "        root2 = (-b - math.sqrt(discriminant)) / (2 * a)\n",
    "        print(f\"The roots are real: {root1:.3f} and {root2:.3f}\")\n",
    "    else:\n",
    "        real_part = -b / (2 * a)\n",
    "        imaginary_part = math.sqrt(-discriminant) / (2 * a)\n",
    "        print(f\"The roots are complex: {real_part:.3f}+{imaginary_part:.3f}i and {real_part:.3f}-{imaginary_part:.3f}i\")\n"
   ]
  },
  {
   "cell_type": "code",
   "execution_count": 7,
   "id": "04362cec-4144-4199-a0b4-3e705c0e58fb",
   "metadata": {},
   "outputs": [
    {
     "name": "stdin",
     "output_type": "stream",
     "text": [
      "Enter the number of subjects:  2\n",
      "Enter marks for subject 1:  72\n",
      "Enter marks for subject 2:  87\n"
     ]
    },
    {
     "name": "stdout",
     "output_type": "stream",
     "text": [
      "Total: 159, Percentage: 79.50%\n",
      "Distinction\n"
     ]
    }
   ],
   "source": [
    "# Task 7: Accept the marks for the number of subjects studying in this semester. While accepting marks check the constraints that entered marks should not be negative as well as should not be more than 100 (if entered terminate the code). If the constraint is satisfied calculate the total & percentage. If % is greater than equal to 92  display “Merit” if % is between 75 and 91 display “Distinction” if % is between 60 and 74 “First class” if %  is between 45 to 59  display “Second class” else display “Fail”\n",
    "\n",
    "subjects = int(input(\"Enter the number of subjects: \"))\n",
    "marks = []\n",
    "\n",
    "for i in range(subjects):\n",
    "    mark = int(input(f\"Enter marks for subject {i+1}: \"))\n",
    "    if mark < 0 or mark > 100:\n",
    "        print(\"Invalid marks entered. Exiting program.\")\n",
    "        exit()\n",
    "    marks.append(mark)\n",
    "\n",
    "total = sum(marks)\n",
    "percentage = total / subjects\n",
    "\n",
    "print(f\"Total: {total}, Percentage: {percentage:.2f}%\")\n",
    "\n",
    "if percentage >= 92:\n",
    "    print(\"Merit\")\n",
    "elif 75 <= percentage < 92:\n",
    "    print(\"Distinction\")\n",
    "elif 60 <= percentage < 75:\n",
    "    print(\"First Class\")\n",
    "elif 45 <= percentage < 60:\n",
    "    print(\"Second Class\")\n",
    "else:\n",
    "    print(\"Fail\")\n"
   ]
  },
  {
   "cell_type": "code",
   "execution_count": 8,
   "id": "c5ef2f49-7bc2-43b9-99c3-da711504432b",
   "metadata": {},
   "outputs": [
    {
     "name": "stdin",
     "output_type": "stream",
     "text": [
      "Enter the number of lines:  5\n"
     ]
    },
    {
     "name": "stdout",
     "output_type": "stream",
     "text": [
      "5 4 3 2 1 \n",
      "  4 3 2 1 \n",
      "    3 2 1 \n",
      "      2 1 \n",
      "        1 \n"
     ]
    }
   ],
   "source": [
    "# Task 8: Write a Python program to print the following pattern. Take number of lines as input from user.\n",
    "lines = int(input(\"Enter the number of lines: \"))\n",
    "\n",
    "for i in range(lines):\n",
    "    print(\" \" * (2 * i), end=\"\")\n",
    "    for j in range(lines - i, 0, -1):\n",
    "        print(j, end=\" \")\n",
    "    print()\n"
   ]
  },
  {
   "cell_type": "code",
   "execution_count": null,
   "id": "39b9233e-b082-4579-958d-b8055bd94571",
   "metadata": {},
   "outputs": [],
   "source": []
  }
 ],
 "metadata": {
  "kernelspec": {
   "display_name": "Python 3 (ipykernel)",
   "language": "python",
   "name": "python3"
  },
  "language_info": {
   "codemirror_mode": {
    "name": "ipython",
    "version": 3
   },
   "file_extension": ".py",
   "mimetype": "text/x-python",
   "name": "python",
   "nbconvert_exporter": "python",
   "pygments_lexer": "ipython3",
   "version": "3.12.7"
  }
 },
 "nbformat": 4,
 "nbformat_minor": 5
}
