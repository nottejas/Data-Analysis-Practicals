{
 "cells": [
  {
   "cell_type": "code",
   "execution_count": 10,
   "id": "0e26905c-f626-43b6-8566-637ccd00d5c8",
   "metadata": {},
   "outputs": [
    {
     "name": "stdout",
     "output_type": "stream",
     "text": [
      "Custom Tree Accuracy: 0.7733\n",
      "Scikit-learn Accuracy: 0.7667\n",
      "Accuracy Difference: -0.0067\n"
     ]
    }
   ],
   "source": [
    "import numpy as np\n",
    "from sklearn.datasets import make_classification\n",
    "from sklearn.model_selection import train_test_split\n",
    "from sklearn.tree import DecisionTreeClassifier\n",
    "from sklearn.metrics import accuracy_score\n",
    "\n",
    "# Custom Decision Tree Implementation (Simplified)\n",
    "def entropy(y):\n",
    "    _, counts = np.unique(y, return_counts=True)\n",
    "    probabilities = counts / len(y)\n",
    "    return -np.sum(probabilities * np.log2(probabilities + 1e-10))  # Avoid log(0)\n",
    "\n",
    "def information_gain(X, y, feature_idx, threshold):\n",
    "    left_mask = X[:, feature_idx] <= threshold\n",
    "    y_left, y_right = y[left_mask], y[~left_mask]\n",
    "    if len(y_left) == 0 or len(y_right) == 0:\n",
    "        return 0\n",
    "    n = len(y)\n",
    "    return entropy(y) - (len(y_left)/n * entropy(y_left) + (len(y_right)/n * entropy(y_right)))\n",
    "\n",
    "def find_best_split(X, y):\n",
    "    best_gain = -1\n",
    "    best_feature, best_threshold = None, None\n",
    "    \n",
    "    for feature_idx in range(X.shape[1]):\n",
    "        unique_values = np.unique(X[:, feature_idx])\n",
    "        thresholds = (unique_values[:-1] + unique_values[1:]) / 2  # Midpoints\n",
    "        \n",
    "        for threshold in thresholds:\n",
    "            gain = information_gain(X, y, feature_idx, threshold)\n",
    "            if gain > best_gain:\n",
    "                best_gain = gain\n",
    "                best_feature = feature_idx\n",
    "                best_threshold = threshold\n",
    "    return best_feature, best_threshold\n",
    "\n",
    "class CustomDecisionTree:\n",
    "    def __init__(self, max_depth=3):\n",
    "        self.max_depth = max_depth\n",
    "        \n",
    "    def fit(self, X, y, depth=0):\n",
    "        if depth >= self.max_depth or len(np.unique(y)) == 1:\n",
    "            self.class_label = np.argmax(np.bincount(y))\n",
    "            return\n",
    "        \n",
    "        self.feature_idx, self.threshold = find_best_split(X, y)\n",
    "        if self.feature_idx is None:  # No gain\n",
    "            self.class_label = np.argmax(np.bincount(y))\n",
    "            return\n",
    "        \n",
    "        left_mask = X[:, self.feature_idx] <= self.threshold\n",
    "        self.left = CustomDecisionTree(self.max_depth)\n",
    "        self.right = CustomDecisionTree(self.max_depth)\n",
    "        self.left.fit(X[left_mask], y[left_mask], depth+1)\n",
    "        self.right.fit(X[~left_mask], y[~left_mask], depth+1)\n",
    "    \n",
    "    def predict(self, X):\n",
    "        if hasattr(self, 'class_label'):\n",
    "            return np.full(X.shape[0], self.class_label)\n",
    "        \n",
    "        left_mask = X[:, self.feature_idx] <= self.threshold\n",
    "        y_pred = np.empty(X.shape[0], dtype=int)\n",
    "        y_pred[left_mask] = self.left.predict(X[left_mask])\n",
    "        y_pred[~left_mask] = self.right.predict(X[~left_mask])\n",
    "        return y_pred\n",
    "\n",
    "# Create Complex Synthetic Dataset\n",
    "X, y = make_classification(\n",
    "    n_samples=1000,\n",
    "    n_features=10,\n",
    "    n_classes=3,\n",
    "    n_clusters_per_class=1,\n",
    "    flip_y=0.3,  # 30% label noise\n",
    "    random_state=42\n",
    ")\n",
    "X_train, X_test, y_train, y_test = train_test_split(X, y, test_size=0.3, random_state=42)\n",
    "\n",
    "# Train and Compare Models\n",
    "# Custom Tree\n",
    "custom_tree = CustomDecisionTree(max_depth=5)\n",
    "custom_tree.fit(X_train, y_train)\n",
    "y_pred_custom = custom_tree.predict(X_test)\n",
    "custom_acc = accuracy_score(y_test, y_pred_custom)\n",
    "\n",
    "# Scikit-learn Tree\n",
    "sk_tree = DecisionTreeClassifier(max_depth=5, random_state=42)\n",
    "sk_tree.fit(X_train, y_train)\n",
    "y_pred_sk = sk_tree.predict(X_test)\n",
    "sk_acc = accuracy_score(y_test, y_pred_sk)\n",
    "\n",
    "# Results\n",
    "print(f\"Custom Tree Accuracy: {custom_acc:.4f}\")\n",
    "print(f\"Scikit-learn Accuracy: {sk_acc:.4f}\")\n",
    "print(f\"Accuracy Difference: {sk_acc - custom_acc:.4f}\")"
   ]
  },
  {
   "cell_type": "code",
   "execution_count": 9,
   "id": "8a033551-a4bd-42f4-9e77-d6246ef3cfd7",
   "metadata": {},
   "outputs": [
    {
     "ename": "KeyboardInterrupt",
     "evalue": "",
     "output_type": "error",
     "traceback": [
      "\u001b[0;31m---------------------------------------------------------------------------\u001b[0m",
      "\u001b[0;31mKeyboardInterrupt\u001b[0m                         Traceback (most recent call last)",
      "Cell \u001b[0;32mIn[9], line 7\u001b[0m\n\u001b[1;32m      4\u001b[0m left \u001b[38;5;241m=\u001b[39m \u001b[38;5;241m0\u001b[39m\n\u001b[1;32m      5\u001b[0m right \u001b[38;5;241m=\u001b[39m \u001b[38;5;28mlen\u001b[39m(arr1)\u001b[38;5;241m-\u001b[39m\u001b[38;5;241m1\u001b[39m\n\u001b[0;32m----> 7\u001b[0m \u001b[38;5;28;01mwhile\u001b[39;00m left \u001b[38;5;241m<\u001b[39m\u001b[38;5;241m=\u001b[39m right:\n\u001b[1;32m      8\u001b[0m     mid \u001b[38;5;241m=\u001b[39m (left \u001b[38;5;241m+\u001b[39m right) \u001b[38;5;241m/\u001b[39m\u001b[38;5;241m/\u001b[39m \u001b[38;5;241m2\u001b[39m\n\u001b[1;32m      9\u001b[0m mid\n",
      "\u001b[0;31mKeyboardInterrupt\u001b[0m: "
     ]
    }
   ],
   "source": [
    "arr1 = [3,2,1,4,8]\n",
    "tofind = [2]\n",
    "arr1.sort()\n",
    "left = 0\n",
    "right = len(arr1)-1\n",
    "\n",
    "while left <= right:\n",
    "    mid = (left + right) // 2\n",
    "mid"
   ]
  },
  {
   "cell_type": "code",
   "execution_count": 15,
   "id": "c34925e3-6daa-4dca-8489-12ea6ebe0aec",
   "metadata": {},
   "outputs": [
    {
     "name": "stdin",
     "output_type": "stream",
     "text": [
      " 2.00\n"
     ]
    },
    {
     "name": "stdout",
     "output_type": "stream",
     "text": [
      "12.566370612\n"
     ]
    }
   ],
   "source": [
    "inp = float(input())\n",
    "\n",
    "ans = 3.141592653 * inp * inp \n",
    "print(f\"{ans:.9f}\")"
   ]
  },
  {
   "cell_type": "code",
   "execution_count": 25,
   "id": "06f3d109-f029-4aa7-a5d8-0ba863fa36ed",
   "metadata": {},
   "outputs": [
    {
     "name": "stdout",
     "output_type": "stream",
     "text": [
      "Tejas 95\n",
      "Ayush 88\n"
     ]
    }
   ],
   "source": [
    "names = ['Tejas', 'Ayush']\n",
    "scores = [95, 88]\n",
    "for name, score in zip(names, scores):\n",
    "    print(name, score)\n"
   ]
  },
  {
   "cell_type": "code",
   "execution_count": null,
   "id": "57149093-58ad-4de1-9401-637bbc28d68e",
   "metadata": {},
   "outputs": [],
   "source": []
  }
 ],
 "metadata": {
  "kernelspec": {
   "display_name": "Python 3 (ipykernel)",
   "language": "python",
   "name": "python3"
  },
  "language_info": {
   "codemirror_mode": {
    "name": "ipython",
    "version": 3
   },
   "file_extension": ".py",
   "mimetype": "text/x-python",
   "name": "python",
   "nbconvert_exporter": "python",
   "pygments_lexer": "ipython3",
   "version": "3.12.2"
  }
 },
 "nbformat": 4,
 "nbformat_minor": 5
}
