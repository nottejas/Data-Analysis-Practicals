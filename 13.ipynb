{
 "cells": [
  {
   "cell_type": "code",
   "execution_count": 1,
   "id": "19998bd2",
   "metadata": {},
   "outputs": [],
   "source": [
    "import sqlite3\n",
    "conn = sqlite3.connect('student.db')\n",
    "cursor = conn.cursor()\n",
    "cursor.execute('''CREATE TABLE IF NOT EXISTS students (\n",
    "                    name TEXT,\n",
    "                    roll_number TEXT UNIQUE,\n",
    "                    sap_id TEXT UNIQUE,\n",
    "                    program TEXT,\n",
    "                    semester INTEGER,\n",
    "                    marks INTEGER,\n",
    "                    result TEXT CHECK(result IN('Pass','Fail'))\n",
    "                )''')\n",
    "conn.commit()"
   ]
  },
  {
   "cell_type": "code",
   "execution_count": 2,
   "id": "295d1b5b",
   "metadata": {},
   "outputs": [],
   "source": [
    "\n",
    "cursor.execute(\"INSERT INTO students (name, roll_number, sap_id, program, semester, marks, result) VALUES (?, ?, ?, ?, ?, ?, ?)\", \n",
    "               ('Asap Rockey', 'R12345', 'SAP6789', 'Computer Science', 5, 85, 'Pass'))\n",
    "\n",
    "cursor.execute(\"INSERT INTO students (name, roll_number, sap_id, program, semester, marks, result) VALUES (?, ?, ?, ?, ?, ?, ?)\", \n",
    "               ('Travis Scott', 'R1234', 'SAP689', 'Computer Science', 5, 55, 'Pass'))\n",
    "conn.commit()"
   ]
  },
  {
   "cell_type": "code",
   "execution_count": 3,
   "id": "b671dd60",
   "metadata": {},
   "outputs": [
    {
     "name": "stdout",
     "output_type": "stream",
     "text": [
      "Students: [('Asap Rockey', 'R12345', 'SAP6789', 'Computer Science', 5, 85, 'Pass'), ('Travis Scott', 'R1234', 'SAP689', 'Computer Science', 5, 55, 'Pass')]\n"
     ]
    }
   ],
   "source": [
    "cursor.execute(\"SELECT * FROM students\")\n",
    "students = cursor.fetchall()\n",
    "print(\"Students:\",students)"
   ]
  },
  {
   "cell_type": "code",
   "execution_count": 4,
   "id": "d28a94d5",
   "metadata": {},
   "outputs": [
    {
     "name": "stdout",
     "output_type": "stream",
     "text": [
      "Updated Students: [('Asap Rockey', 'R12345', 'SAP6789', 'Computer Science', 5, 60, 'Pass'), ('Travis Scott', 'R1234', 'SAP689', 'Computer Science', 5, 55, 'Pass')]\n"
     ]
    }
   ],
   "source": [
    "cursor.execute(\"UPDATE students SET marks=?,result=? WHERE roll_number=?\",(60,'Pass','R12345'))\n",
    "conn.commit()\n",
    "\n",
    "cursor.execute(\"SELECT * FROM students\")\n",
    "students = cursor.fetchall()\n",
    "print(\"Updated Students:\",students)"
   ]
  },
  {
   "cell_type": "code",
   "execution_count": 5,
   "id": "8a630b09",
   "metadata": {},
   "outputs": [
    {
     "name": "stdout",
     "output_type": "stream",
     "text": [
      "Remaining Students: [('Travis Scott', 'R1234', 'SAP689', 'Computer Science', 5, 55, 'Pass')]\n"
     ]
    }
   ],
   "source": [
    "cursor.execute(\"DELETE FROM students WHERE roll_number=?\", ('R12345',))\n",
    "conn.commit()\n",
    "\n",
    "\n",
    "cursor.execute(\"SELECT * FROM students\")\n",
    "students = cursor.fetchall()\n",
    "print(\"Remaining Students:\", students)\n",
    "conn.close()"
   ]
  },
  {
   "cell_type": "code",
   "execution_count": 8,
   "id": "bd87cafe",
   "metadata": {},
   "outputs": [],
   "source": [
    "def get_student_input():\n",
    "    name = input(\"Enter student's name: \")\n",
    "    roll_number = input(\"Enter student's roll number: \")\n",
    "    sap_id = input(\"Enter student's SAP ID: \")\n",
    "    program = input(\"Enter student's program: \")\n",
    "    semester = int(input(\"Enter student's semester: \"))\n",
    "    marks = int(input(\"Enter student's marks: \"))\n",
    "    result = input(\"Enter student's result (Pass/Fail): \")\n",
    " \n",
    "    return (name, roll_number, sap_id, program, semester, marks, result)"
   ]
  },
  {
   "cell_type": "code",
   "execution_count": null,
   "id": "39c436bd-9627-455b-9c96-bfe677bdf00e",
   "metadata": {},
   "outputs": [],
   "source": [
    "2"
   ]
  }
 ],
 "metadata": {
  "kernelspec": {
   "display_name": "Python 3 (ipykernel)",
   "language": "python",
   "name": "python3"
  },
  "language_info": {
   "codemirror_mode": {
    "name": "ipython",
    "version": 3
   },
   "file_extension": ".py",
   "mimetype": "text/x-python",
   "name": "python",
   "nbconvert_exporter": "python",
   "pygments_lexer": "ipython3",
   "version": "3.12.7"
  }
 },
 "nbformat": 4,
 "nbformat_minor": 5
}
