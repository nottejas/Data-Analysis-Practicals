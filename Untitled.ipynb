{
 "cells": [
  {
   "cell_type": "code",
   "execution_count": 1,
   "id": "c213aea4",
   "metadata": {},
   "outputs": [
    {
     "name": "stdout",
     "output_type": "stream",
     "text": [
      "Enter first num2\n",
      "Enter a operator(+, -, /, *)-\n",
      "Enter second number1\n",
      "Result:  1.0\n"
     ]
    }
   ],
   "source": [
    "def add(x, y):\n",
    "    return x + y\n",
    "\n",
    "def subtract(x, y):\n",
    "    return x - y\n",
    "\n",
    "def multiply(x, y):\n",
    "    return x * y\n",
    "\n",
    "def divide(x, y):\n",
    "    if(y!=0):\n",
    "        return x / y\n",
    "    else:\n",
    "        return \"You cannot divide by zero\"\n",
    "\n",
    "num1 = float(input(\"Enter first num\"))\n",
    "operator = input(\"Enter a operator(+, -, /, *)\")\n",
    "num2 = float(input(\"Enter second number\")) \n",
    "\n",
    "if operator == \"+\":\n",
    "    result = add(num1, num2)\n",
    "elif operator == \"-\":\n",
    "    result = subtract(num1, num2)\n",
    "elif operator == \"*\":\n",
    "    result = multiply(num1, num2)\n",
    "elif operator == \"/\":\n",
    "    result = divide(num1, num2)\n",
    "\n",
    "else: \n",
    "    result = \"Invalid operation\"\n",
    "\n",
    "print(\"Result: \", result)\n",
    "\n"
   ]
  },
  {
   "cell_type": "code",
   "execution_count": 6,
   "id": "4f2e6c8f",
   "metadata": {},
   "outputs": [
    {
     "name": "stdout",
     "output_type": "stream",
     "text": [
      "Reversed number: 54231\n"
     ]
    }
   ],
   "source": [
    "\n",
    "def reverse_number(num):\n",
    "\n",
    "    reversed_num = int(str(num)[::-1])\n",
    "    return reversed_num\n",
    "\n",
    "reversed_num = reverse_number(13245)\n",
    "print(\"Reversed number:\", reversed_num)\n"
   ]
  },
  {
   "cell_type": "code",
   "execution_count": 4,
   "id": "8336f375",
   "metadata": {},
   "outputs": [
    {
     "name": "stdout",
     "output_type": "stream",
     "text": [
      "Enter the num of terms7\n",
      "Fibonacci sequence: \n",
      "0\n",
      "1\n",
      "1\n",
      "2\n",
      "3\n",
      "5\n",
      "8\n"
     ]
    }
   ],
   "source": [
    "def fibonacci(n):\n",
    "    a, b = 0, 1\n",
    "    for _ in range(n):\n",
    "        print(a)\n",
    "        a, b = b, a + b\n",
    "\n",
    "def main():\n",
    "    terms = int(input(\"Enter the num of terms\"))\n",
    "    print(\"Fibonacci sequence: \")\n",
    "    fibonacci(terms)\n",
    "    \n",
    "if __name__ == \"__main__\":\n",
    "    main()"
   ]
  },
  {
   "cell_type": "code",
   "execution_count": 12,
   "id": "b10b0a44",
   "metadata": {},
   "outputs": [
    {
     "name": "stdout",
     "output_type": "stream",
     "text": [
      "Enter a number: 10\n",
      "Sum of odd numbers: 25\n"
     ]
    }
   ],
   "source": [
    "def sumOfOdd(n):\n",
    "    total = 0\n",
    "    for i in range(1, n + 1):\n",
    "        if i % 2 != 0:\n",
    "            total += i\n",
    "    return total\n",
    "\n",
    "n = int(input(\"Enter a number: \"))\n",
    "print(\"Sum of odd numbers:\", sumOfOdd(n))\n"
   ]
  },
  {
   "cell_type": "code",
   "execution_count": 18,
   "id": "a56f7d17",
   "metadata": {},
   "outputs": [
    {
     "name": "stdout",
     "output_type": "stream",
     "text": [
      "Enter a number: 145\n",
      "The number is a strong number.\n"
     ]
    }
   ],
   "source": [
    "sum1 = 0\n",
    "num = int(input(\"Enter a number: \"))\n",
    "temp = num\n",
    "\n",
    "while num:\n",
    "    r = num % 10  \n",
    "    f = 1\n",
    "    i = 1\n",
    "    while i <= r:\n",
    "        f = f * i  \n",
    "        i = i + 1\n",
    "    sum1 = sum1 + f \n",
    "    num = num // 10 \n",
    "\n",
    "if sum1 == temp: \n",
    "    print(\"The number is a strong number.\")\n",
    "else:\n",
    "    print(\"The number is not a strong number.\")\n"
   ]
  },
  {
   "cell_type": "code",
   "execution_count": 20,
   "id": "268cd7c8",
   "metadata": {},
   "outputs": [
    {
     "name": "stdout",
     "output_type": "stream",
     "text": [
      "Enter marks: 93\n",
      "Merit\n"
     ]
    }
   ],
   "source": [
    "num = int(input(\"Enter marks: \"))\n",
    "\n",
    "if num < 0 or num > 100:\n",
    "    print(\"Invalid input\")\n",
    "elif num >= 92 and num < 100:\n",
    "    print(\"Merit\")\n",
    "elif num >= 75 and num <= 91:\n",
    "    print(\"Distinction\")\n",
    "elif num >= 60 and num <= 74:\n",
    "    print(\"First Class\")\n",
    "elif num >= 45 and num <= 59:\n",
    "    print(\"Second class\")\n",
    "else:\n",
    "    print(\"Fail\")\n"
   ]
  },
  {
   "cell_type": "code",
   "execution_count": null,
   "id": "362c66ef",
   "metadata": {},
   "outputs": [],
   "source": []
  }
 ],
 "metadata": {
  "kernelspec": {
   "display_name": "Python 3 (ipykernel)",
   "language": "python",
   "name": "python3"
  },
  "language_info": {
   "codemirror_mode": {
    "name": "ipython",
    "version": 3
   },
   "file_extension": ".py",
   "mimetype": "text/x-python",
   "name": "python",
   "nbconvert_exporter": "python",
   "pygments_lexer": "ipython3",
   "version": "3.12.7"
  }
 },
 "nbformat": 4,
 "nbformat_minor": 5
}
