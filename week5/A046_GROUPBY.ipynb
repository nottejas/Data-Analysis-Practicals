{
 "cells": [
  {
   "cell_type": "markdown",
   "id": "75b78362",
   "metadata": {},
   "source": [
    "Q1 You have a DataFrame with employee names, their departments, and their salaries:\n",
    "Group the DataFrame by Department and calculate the average salary for each department."
   ]
  },
  {
   "cell_type": "code",
   "execution_count": 2,
   "id": "3a496eec",
   "metadata": {},
   "outputs": [
    {
     "data": {
      "text/html": [
       "<div>\n",
       "<style scoped>\n",
       "    .dataframe tbody tr th:only-of-type {\n",
       "        vertical-align: middle;\n",
       "    }\n",
       "\n",
       "    .dataframe tbody tr th {\n",
       "        vertical-align: top;\n",
       "    }\n",
       "\n",
       "    .dataframe thead th {\n",
       "        text-align: right;\n",
       "    }\n",
       "</style>\n",
       "<table border=\"1\" class=\"dataframe\">\n",
       "  <thead>\n",
       "    <tr style=\"text-align: right;\">\n",
       "      <th></th>\n",
       "      <th>Employee</th>\n",
       "      <th>Department</th>\n",
       "      <th>Salary</th>\n",
       "    </tr>\n",
       "  </thead>\n",
       "  <tbody>\n",
       "    <tr>\n",
       "      <th>0</th>\n",
       "      <td>Alice</td>\n",
       "      <td>HR</td>\n",
       "      <td>50000</td>\n",
       "    </tr>\n",
       "    <tr>\n",
       "      <th>1</th>\n",
       "      <td>Bob</td>\n",
       "      <td>IT</td>\n",
       "      <td>60000</td>\n",
       "    </tr>\n",
       "    <tr>\n",
       "      <th>2</th>\n",
       "      <td>Charlie</td>\n",
       "      <td>HR</td>\n",
       "      <td>55000</td>\n",
       "    </tr>\n",
       "    <tr>\n",
       "      <th>3</th>\n",
       "      <td>David</td>\n",
       "      <td>IT</td>\n",
       "      <td>70000</td>\n",
       "    </tr>\n",
       "    <tr>\n",
       "      <th>4</th>\n",
       "      <td>Eve</td>\n",
       "      <td>IT</td>\n",
       "      <td>65000</td>\n",
       "    </tr>\n",
       "    <tr>\n",
       "      <th>5</th>\n",
       "      <td>Frank</td>\n",
       "      <td>HR</td>\n",
       "      <td>58000</td>\n",
       "    </tr>\n",
       "  </tbody>\n",
       "</table>\n",
       "</div>"
      ],
      "text/plain": [
       "  Employee Department  Salary\n",
       "0    Alice         HR   50000\n",
       "1      Bob         IT   60000\n",
       "2  Charlie         HR   55000\n",
       "3    David         IT   70000\n",
       "4      Eve         IT   65000\n",
       "5    Frank         HR   58000"
      ]
     },
     "execution_count": 2,
     "metadata": {},
     "output_type": "execute_result"
    }
   ],
   "source": [
    "import pandas as pd\n",
    "\n",
    "data = {\n",
    "    'Employee': ['Alice', 'Bob', 'Charlie', 'David', 'Eve', 'Frank'],\n",
    "    'Department': ['HR', 'IT', 'HR', 'IT', 'IT', 'HR'],\n",
    "    'Salary': [50000, 60000, 55000, 70000, 65000, 58000]\n",
    "}\n",
    "df = pd.DataFrame(data)\n",
    "df"
   ]
  },
  {
   "cell_type": "code",
   "execution_count": 3,
   "id": "2d358953",
   "metadata": {},
   "outputs": [
    {
     "data": {
      "text/plain": [
       "Department\n",
       "HR    54333.333333\n",
       "IT    65000.000000\n",
       "Name: Salary, dtype: float64"
      ]
     },
     "execution_count": 3,
     "metadata": {},
     "output_type": "execute_result"
    }
   ],
   "source": [
    "avg_sal = df.groupby('Department')['Salary'].mean() #agg\n",
    "avg_sal"
   ]
  },
  {
   "cell_type": "code",
   "execution_count": 4,
   "id": "8191d1c3",
   "metadata": {},
   "outputs": [
    {
     "data": {
      "text/html": [
       "<div>\n",
       "<style scoped>\n",
       "    .dataframe tbody tr th:only-of-type {\n",
       "        vertical-align: middle;\n",
       "    }\n",
       "\n",
       "    .dataframe tbody tr th {\n",
       "        vertical-align: top;\n",
       "    }\n",
       "\n",
       "    .dataframe thead th {\n",
       "        text-align: right;\n",
       "    }\n",
       "</style>\n",
       "<table border=\"1\" class=\"dataframe\">\n",
       "  <thead>\n",
       "    <tr style=\"text-align: right;\">\n",
       "      <th></th>\n",
       "      <th>sum</th>\n",
       "      <th>mean</th>\n",
       "      <th>max</th>\n",
       "    </tr>\n",
       "    <tr>\n",
       "      <th>Department</th>\n",
       "      <th></th>\n",
       "      <th></th>\n",
       "      <th></th>\n",
       "    </tr>\n",
       "  </thead>\n",
       "  <tbody>\n",
       "    <tr>\n",
       "      <th>HR</th>\n",
       "      <td>163000</td>\n",
       "      <td>54333.333333</td>\n",
       "      <td>58000</td>\n",
       "    </tr>\n",
       "    <tr>\n",
       "      <th>IT</th>\n",
       "      <td>195000</td>\n",
       "      <td>65000.000000</td>\n",
       "      <td>70000</td>\n",
       "    </tr>\n",
       "  </tbody>\n",
       "</table>\n",
       "</div>"
      ],
      "text/plain": [
       "               sum          mean    max\n",
       "Department                             \n",
       "HR          163000  54333.333333  58000\n",
       "IT          195000  65000.000000  70000"
      ]
     },
     "execution_count": 4,
     "metadata": {},
     "output_type": "execute_result"
    }
   ],
   "source": []
  },
  {
   "cell_type": "markdown",
   "id": "ceddf253",
   "metadata": {},
   "source": [
    "Q2 Using the same DataFrame as above, perform multiple aggregations on the salary (e.g., sum, mean, and max) for each department.\n",
    "\n",
    "Group by Department and apply the following aggregations:\n",
    "Sum of salary\n",
    "Mean of salary\n",
    "Max salary"
   ]
  },
  {
   "cell_type": "code",
   "execution_count": 5,
   "id": "3a11c14e",
   "metadata": {},
   "outputs": [
    {
     "data": {
      "text/html": [
       "<div>\n",
       "<style scoped>\n",
       "    .dataframe tbody tr th:only-of-type {\n",
       "        vertical-align: middle;\n",
       "    }\n",
       "\n",
       "    .dataframe tbody tr th {\n",
       "        vertical-align: top;\n",
       "    }\n",
       "\n",
       "    .dataframe thead th {\n",
       "        text-align: right;\n",
       "    }\n",
       "</style>\n",
       "<table border=\"1\" class=\"dataframe\">\n",
       "  <thead>\n",
       "    <tr style=\"text-align: right;\">\n",
       "      <th></th>\n",
       "      <th>sum</th>\n",
       "      <th>mean</th>\n",
       "      <th>max</th>\n",
       "    </tr>\n",
       "    <tr>\n",
       "      <th>Department</th>\n",
       "      <th></th>\n",
       "      <th></th>\n",
       "      <th></th>\n",
       "    </tr>\n",
       "  </thead>\n",
       "  <tbody>\n",
       "    <tr>\n",
       "      <th>HR</th>\n",
       "      <td>163000</td>\n",
       "      <td>54333.333333</td>\n",
       "      <td>58000</td>\n",
       "    </tr>\n",
       "    <tr>\n",
       "      <th>IT</th>\n",
       "      <td>195000</td>\n",
       "      <td>65000.000000</td>\n",
       "      <td>70000</td>\n",
       "    </tr>\n",
       "  </tbody>\n",
       "</table>\n",
       "</div>"
      ],
      "text/plain": [
       "               sum          mean    max\n",
       "Department                             \n",
       "HR          163000  54333.333333  58000\n",
       "IT          195000  65000.000000  70000"
      ]
     },
     "execution_count": 5,
     "metadata": {},
     "output_type": "execute_result"
    }
   ],
   "source": [
    "agg_sal = df.groupby('Department')['Salary'].agg(['sum', 'mean', 'max'])\n",
    "agg_sal"
   ]
  },
  {
   "cell_type": "markdown",
   "id": "571583d4",
   "metadata": {},
   "source": [
    "Q3 Given a DataFrame with employee data that includes names, departments, and ages:\n",
    "Group the DataFrame by Department, and filter out groups where the average age is less than 40."
   ]
  },
  {
   "cell_type": "code",
   "execution_count": 6,
   "id": "e3217161",
   "metadata": {},
   "outputs": [
    {
     "data": {
      "text/html": [
       "<div>\n",
       "<style scoped>\n",
       "    .dataframe tbody tr th:only-of-type {\n",
       "        vertical-align: middle;\n",
       "    }\n",
       "\n",
       "    .dataframe tbody tr th {\n",
       "        vertical-align: top;\n",
       "    }\n",
       "\n",
       "    .dataframe thead th {\n",
       "        text-align: right;\n",
       "    }\n",
       "</style>\n",
       "<table border=\"1\" class=\"dataframe\">\n",
       "  <thead>\n",
       "    <tr style=\"text-align: right;\">\n",
       "      <th></th>\n",
       "      <th>Employee</th>\n",
       "      <th>Department</th>\n",
       "      <th>Age</th>\n",
       "    </tr>\n",
       "  </thead>\n",
       "  <tbody>\n",
       "    <tr>\n",
       "      <th>0</th>\n",
       "      <td>Alice</td>\n",
       "      <td>HR</td>\n",
       "      <td>60</td>\n",
       "    </tr>\n",
       "    <tr>\n",
       "      <th>1</th>\n",
       "      <td>Bob</td>\n",
       "      <td>IT</td>\n",
       "      <td>50</td>\n",
       "    </tr>\n",
       "    <tr>\n",
       "      <th>2</th>\n",
       "      <td>Charlie</td>\n",
       "      <td>HR</td>\n",
       "      <td>35</td>\n",
       "    </tr>\n",
       "    <tr>\n",
       "      <th>3</th>\n",
       "      <td>David</td>\n",
       "      <td>IT</td>\n",
       "      <td>40</td>\n",
       "    </tr>\n",
       "    <tr>\n",
       "      <th>4</th>\n",
       "      <td>Eve</td>\n",
       "      <td>IT</td>\n",
       "      <td>45</td>\n",
       "    </tr>\n",
       "    <tr>\n",
       "      <th>5</th>\n",
       "      <td>Frank</td>\n",
       "      <td>HR</td>\n",
       "      <td>50</td>\n",
       "    </tr>\n",
       "    <tr>\n",
       "      <th>6</th>\n",
       "      <td>Monk</td>\n",
       "      <td>MECH</td>\n",
       "      <td>33</td>\n",
       "    </tr>\n",
       "    <tr>\n",
       "      <th>7</th>\n",
       "      <td>Sonk</td>\n",
       "      <td>CHEM</td>\n",
       "      <td>34</td>\n",
       "    </tr>\n",
       "    <tr>\n",
       "      <th>8</th>\n",
       "      <td>Donk</td>\n",
       "      <td>BIO</td>\n",
       "      <td>22</td>\n",
       "    </tr>\n",
       "  </tbody>\n",
       "</table>\n",
       "</div>"
      ],
      "text/plain": [
       "  Employee Department  Age\n",
       "0    Alice         HR   60\n",
       "1      Bob         IT   50\n",
       "2  Charlie         HR   35\n",
       "3    David         IT   40\n",
       "4      Eve         IT   45\n",
       "5    Frank         HR   50\n",
       "6     Monk       MECH   33\n",
       "7     Sonk       CHEM   34\n",
       "8     Donk        BIO   22"
      ]
     },
     "execution_count": 6,
     "metadata": {},
     "output_type": "execute_result"
    }
   ],
   "source": [
    "# Group by Department and filter out groups where the average age is less than 40\n",
    "data1 = {\n",
    "    'Employee': ['Alice', 'Bob', 'Charlie', 'David', 'Eve', 'Frank', 'Monk', 'Sonk', 'Donk'],\n",
    "    'Department': ['HR', 'IT', 'HR', 'IT', 'IT', 'HR', 'MECH', 'CHEM', 'BIO'],\n",
    "    'Age': [60, 50, 35, 40, 45, 50, 33, 34, 22]\n",
    "}\n",
    "df1 = pd.DataFrame(data1)\n",
    "df1\n",
    "\n"
   ]
  },
  {
   "cell_type": "code",
   "execution_count": 12,
   "id": "dbbeeacf",
   "metadata": {},
   "outputs": [
    {
     "name": "stdout",
     "output_type": "stream",
     "text": [
      "Department\n",
      "BIO     22.0\n",
      "CHEM    34.0\n",
      "MECH    33.0\n",
      "Name: Age, dtype: float64\n"
     ]
    }
   ],
   "source": [
    "avg_age = df1.groupby('Department')['Age'].mean()\n",
    "\n",
    "\n",
    "fil_age = avg_age[avg_age <= 40]\n",
    "print(fil_age)"
   ]
  },
  {
   "cell_type": "code",
   "execution_count": null,
   "id": "b617dd80",
   "metadata": {},
   "outputs": [],
   "source": []
  },
  {
   "cell_type": "markdown",
   "id": "00e12641",
   "metadata": {},
   "source": [
    "Q4 Using the same salary DataFrame as in exercise 1: "
   ]
  },
  {
   "cell_type": "code",
   "execution_count": null,
   "id": "1d4a9ccd",
   "metadata": {},
   "outputs": [],
   "source": []
  },
  {
   "cell_type": "markdown",
   "id": "15cb14d0",
   "metadata": {},
   "source": [
    "Q5 Grouping by Multiple Columns\n"
   ]
  },
  {
   "cell_type": "code",
   "execution_count": 16,
   "id": "89e8da08",
   "metadata": {},
   "outputs": [],
   "source": [
    "data2 = {\n",
    "    'Store': ['A', 'B', 'A', 'B', 'A', 'B'],\n",
    "    'Month': ['Jan', 'Jan', 'Feb', 'Feb', 'Mar', 'Mar'],\n",
    "    'Sales': [100, 150, 200, 250, 300, 350]\n",
    "}\n",
    "df2 = pd.DataFrame(data2)"
   ]
  },
  {
   "cell_type": "markdown",
   "id": "6a515659",
   "metadata": {},
   "source": [
    "Group the data by both Store and Month, then calculate the total sales for each group.\n"
   ]
  },
  {
   "cell_type": "code",
   "execution_count": 17,
   "id": "9eb1bca2",
   "metadata": {},
   "outputs": [
    {
     "data": {
      "text/plain": [
       "Store  Month\n",
       "A      Feb      200\n",
       "       Jan      100\n",
       "       Mar      300\n",
       "B      Feb      250\n",
       "       Jan      150\n",
       "       Mar      350\n",
       "Name: Sales, dtype: int64"
      ]
     },
     "execution_count": 17,
     "metadata": {},
     "output_type": "execute_result"
    }
   ],
   "source": [
    "store_sum = df2.groupby(['Store', 'Month'])['Sales'].sum()\n",
    "store_sum"
   ]
  },
  {
   "cell_type": "code",
   "execution_count": null,
   "id": "d9d96c46",
   "metadata": {},
   "outputs": [],
   "source": []
  },
  {
   "cell_type": "code",
   "execution_count": null,
   "id": "7fd64183-c5a3-4421-84d7-c1feccfafd0b",
   "metadata": {},
   "outputs": [],
   "source": []
  }
 ],
 "metadata": {
  "kernelspec": {
   "display_name": "Python 3 (ipykernel)",
   "language": "python",
   "name": "python3"
  },
  "language_info": {
   "codemirror_mode": {
    "name": "ipython",
    "version": 3
   },
   "file_extension": ".py",
   "mimetype": "text/x-python",
   "name": "python",
   "nbconvert_exporter": "python",
   "pygments_lexer": "ipython3",
   "version": "3.12.7"
  }
 },
 "nbformat": 4,
 "nbformat_minor": 5
}
