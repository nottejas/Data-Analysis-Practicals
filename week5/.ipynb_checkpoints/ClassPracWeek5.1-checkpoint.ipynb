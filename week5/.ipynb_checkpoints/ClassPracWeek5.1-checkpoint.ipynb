{
 "cells": [
  {
   "cell_type": "code",
   "execution_count": 3,
   "id": "dd46bae5-fb99-4c76-ada6-87cc609ec4aa",
   "metadata": {},
   "outputs": [],
   "source": [
    "import pandas as pd"
   ]
  },
  {
   "cell_type": "code",
   "execution_count": 7,
   "id": "7946f69b-ca5f-463a-889f-ccb5f371fefd",
   "metadata": {},
   "outputs": [
    {
     "name": "stdout",
     "output_type": "stream",
     "text": [
      "0    1.6\n",
      "1    2.5\n",
      "2    3.6\n",
      "3    4.5\n",
      "dtype: float64\n"
     ]
    }
   ],
   "source": [
    "seriesA = pd.Series([1.6, 2.5, 3.6, 4.5])\n",
    "print(seriesA)"
   ]
  },
  {
   "cell_type": "code",
   "execution_count": 10,
   "id": "587fd301-b54a-4a87-8b6a-323d728d1daa",
   "metadata": {},
   "outputs": [
    {
     "name": "stdout",
     "output_type": "stream",
     "text": [
      "0    A\n",
      "1    B\n",
      "2    C\n",
      "3    D\n",
      "dtype: object\n"
     ]
    }
   ],
   "source": [
    "seriesB = pd.Series([\"A\", \"B\", \"C\", \"D\"])\n",
    "print(seriesB)"
   ]
  },
  {
   "cell_type": "code",
   "execution_count": 11,
   "id": "dcb71806-e65b-4fd9-849e-49e5f4e1d899",
   "metadata": {},
   "outputs": [
    {
     "name": "stdout",
     "output_type": "stream",
     "text": [
      "  Name  Number\n",
      "0    A     1.6\n",
      "1    B     2.5\n",
      "2    C     3.6\n",
      "3    D     4.5\n"
     ]
    }
   ],
   "source": [
    "data = pd.DataFrame({\"Name\": seriesB, \"Number\": seriesA})\n",
    "print(data)"
   ]
  },
  {
   "cell_type": "code",
   "execution_count": 18,
   "id": "a339cac6-799f-4a7f-b8d7-d7b191a3c288",
   "metadata": {},
   "outputs": [
    {
     "name": "stdout",
     "output_type": "stream",
     "text": [
      "    Name  Age    Country\n",
      "0  Alpha   30      India\n",
      "1   Beta   23         US\n",
      "2   Gama   21    Germany\n",
      "3   Zeta   32  Australia\n"
     ]
    }
   ],
   "source": [
    "import pandas as pd\n",
    "\n",
    "data = {\n",
    "    \"Name\": [\"Alpha\", \"Beta\", \"Gama\", \"Zeta\"],\n",
    "    \"Age\": [30, 23, 21, 32],\n",
    "    \"Country\": [\"India\", \"US\", \"Germany\", \"Australia\"]\n",
    "}\n",
    "\n",
    "df = pd.DataFrame(data)\n",
    "print(df) \n",
    "\n"
   ]
  },
  {
   "cell_type": "code",
   "execution_count": 25,
   "id": "774106c1-059c-4687-ab20-82bd9d2a52dd",
   "metadata": {},
   "outputs": [
    {
     "name": "stdout",
     "output_type": "stream",
     "text": [
      "   Age\n",
      "0   30\n",
      "1   23\n",
      "2   21\n",
      "3   32\n"
     ]
    }
   ],
   "source": [
    "df = pd.DataFrame(data, columns=[\"Age\"])\n",
    "print(df)\n",
    "\n"
   ]
  },
  {
   "cell_type": "code",
   "execution_count": 21,
   "id": "f18a82c5-d722-49f7-b3cf-17725c19e0d1",
   "metadata": {},
   "outputs": [
    {
     "name": "stdout",
     "output_type": "stream",
     "text": [
      "   Age\n",
      "0    1\n",
      "1    2\n",
      "2    3\n",
      "3    4\n"
     ]
    }
   ],
   "source": [
    "df[\"Age\"] = [1,2,3,4]\n",
    "print(df)"
   ]
  },
  {
   "cell_type": "code",
   "execution_count": 22,
   "id": "30cb3d6a-e4da-47fb-925c-a7d2ca77533b",
   "metadata": {},
   "outputs": [
    {
     "name": "stdout",
     "output_type": "stream",
     "text": [
      "      Name  Age    City\n",
      "0    tejas   18    adad\n",
      "1  ronaldo   19    adad\n",
      "2    messi   29    eref\n",
      "3    kohli   31  adfewf\n"
     ]
    }
   ],
   "source": [
    "name = [\"tejas\", \"ronaldo\", \"messi\", \"kohli\"]\n",
    "age = [18, 19, 29, 31]\n",
    "city = [\"adad\", \"adad\", \"eref\", \"adfewf\"]\n",
    "\n",
    "stud = pd.DataFrame({\n",
    "    \"Name\": name,\n",
    "    \"Age\": age,\n",
    "    \"City\": city\n",
    "})\n",
    "\n",
    "print(stud)"
   ]
  },
  {
   "cell_type": "code",
   "execution_count": 26,
   "id": "79bf9c4a-2bef-4a1c-9cd8-46f29ffc9d1d",
   "metadata": {},
   "outputs": [
    {
     "name": "stdout",
     "output_type": "stream",
     "text": [
      "    Name  Age    City\n",
      "2  messi   29    eref\n",
      "3  kohli   31  adfewf\n"
     ]
    }
   ],
   "source": [
    "filt = stud[stud[\"Age\"] > 22]\n",
    "print(filt)"
   ]
  },
  {
   "cell_type": "code",
   "execution_count": 29,
   "id": "69432d81-da8b-482d-a209-20ae5bd7d41e",
   "metadata": {},
   "outputs": [
    {
     "name": "stdout",
     "output_type": "stream",
     "text": [
      "    Name  Age  Major  GPA    enr_date\n",
      "0  Alpha   30     CS  3.8  2022-08-15\n",
      "1   Beta   23     DS  3.2  2021-09-01\n",
      "2   Gama   21  Maths  3.9  2023-06-10\n",
      "3   Zeta   32     DS  3.1  2022-01-20\n"
     ]
    }
   ],
   "source": [
    "import datetime as dt\n",
    "data = {\n",
    "    \"Name\": [\"Alpha\", \"Beta\", \"Gama\", \"Zeta\"],\n",
    "    \"Age\": [30, 23, 21, 32],\n",
    "    \"Major\": [\"CS\", \"DS\", \"Maths\", \"DS\"],\n",
    "    \"GPA\": [3.8, 3.2, 3.9, 3.1],\n",
    "    \"enr_date\": [\"2022-08-15\", \"2021-09-01\", \"2023-06-10\", \"2022-01-20\"]\n",
    "}\n",
    "\n",
    "samp_data = pd.DataFrame(data)\n",
    "print(samp_data)"
   ]
  },
  {
   "cell_type": "code",
   "execution_count": 30,
   "id": "845a50bb-60dc-42a0-b9ea-135bd686d6ab",
   "metadata": {},
   "outputs": [
    {
     "name": "stdout",
     "output_type": "stream",
     "text": [
      "<class 'pandas.core.frame.DataFrame'>\n",
      "RangeIndex: 4 entries, 0 to 3\n",
      "Data columns (total 5 columns):\n",
      " #   Column    Non-Null Count  Dtype  \n",
      "---  ------    --------------  -----  \n",
      " 0   Name      4 non-null      object \n",
      " 1   Age       4 non-null      int64  \n",
      " 2   Major     4 non-null      object \n",
      " 3   GPA       4 non-null      float64\n",
      " 4   enr_date  4 non-null      object \n",
      "dtypes: float64(1), int64(1), object(3)\n",
      "memory usage: 292.0+ bytes\n"
     ]
    }
   ],
   "source": [
    "samp_data.info()"
   ]
  },
  {
   "cell_type": "code",
   "execution_count": 31,
   "id": "aed31913-21f9-4d0b-8ebc-913af565bc4a",
   "metadata": {},
   "outputs": [
    {
     "name": "stdout",
     "output_type": "stream",
     "text": [
      "    Name  Age  Major  GPA   enr_date\n",
      "0  Alpha   30     CS  3.8 2022-08-15\n",
      "1   Beta   23     DS  3.2 2021-09-01\n",
      "2   Gama   21  Maths  3.9 2023-06-10\n",
      "3   Zeta   32     DS  3.1 2022-01-20\n"
     ]
    }
   ],
   "source": [
    "samp_data[\"enr_date\"] = pd.to_datetime(samp_data[\"enr_date\"])\n",
    "print(samp_data)"
   ]
  },
  {
   "cell_type": "code",
   "execution_count": 32,
   "id": "2616e4fc-1f85-407d-8f79-6ec317656444",
   "metadata": {},
   "outputs": [
    {
     "name": "stdout",
     "output_type": "stream",
     "text": [
      "<class 'pandas.core.frame.DataFrame'>\n",
      "RangeIndex: 4 entries, 0 to 3\n",
      "Data columns (total 5 columns):\n",
      " #   Column    Non-Null Count  Dtype         \n",
      "---  ------    --------------  -----         \n",
      " 0   Name      4 non-null      object        \n",
      " 1   Age       4 non-null      int64         \n",
      " 2   Major     4 non-null      object        \n",
      " 3   GPA       4 non-null      float64       \n",
      " 4   enr_date  4 non-null      datetime64[ns]\n",
      "dtypes: datetime64[ns](1), float64(1), int64(1), object(2)\n",
      "memory usage: 292.0+ bytes\n"
     ]
    }
   ],
   "source": [
    "samp_data.info()"
   ]
  },
  {
   "cell_type": "code",
   "execution_count": 37,
   "id": "6fb1a207-8d81-45e4-954d-96fe230c1740",
   "metadata": {},
   "outputs": [
    {
     "data": {
      "text/html": [
       "<div>\n",
       "<style scoped>\n",
       "    .dataframe tbody tr th:only-of-type {\n",
       "        vertical-align: middle;\n",
       "    }\n",
       "\n",
       "    .dataframe tbody tr th {\n",
       "        vertical-align: top;\n",
       "    }\n",
       "\n",
       "    .dataframe thead th {\n",
       "        text-align: right;\n",
       "    }\n",
       "</style>\n",
       "<table border=\"1\" class=\"dataframe\">\n",
       "  <thead>\n",
       "    <tr style=\"text-align: right;\">\n",
       "      <th></th>\n",
       "      <th>Name</th>\n",
       "      <th>Age</th>\n",
       "      <th>Major</th>\n",
       "      <th>GPA</th>\n",
       "      <th>enr_date</th>\n",
       "    </tr>\n",
       "  </thead>\n",
       "  <tbody>\n",
       "    <tr>\n",
       "      <th>1</th>\n",
       "      <td>Beta</td>\n",
       "      <td>23</td>\n",
       "      <td>DS</td>\n",
       "      <td>3.2</td>\n",
       "      <td>2021-09-01</td>\n",
       "    </tr>\n",
       "    <tr>\n",
       "      <th>3</th>\n",
       "      <td>Zeta</td>\n",
       "      <td>32</td>\n",
       "      <td>DS</td>\n",
       "      <td>3.1</td>\n",
       "      <td>2022-01-20</td>\n",
       "    </tr>\n",
       "  </tbody>\n",
       "</table>\n",
       "</div>"
      ],
      "text/plain": [
       "   Name  Age Major  GPA   enr_date\n",
       "1  Beta   23    DS  3.2 2021-09-01\n",
       "3  Zeta   32    DS  3.1 2022-01-20"
      ]
     },
     "execution_count": 37,
     "metadata": {},
     "output_type": "execute_result"
    }
   ],
   "source": [
    "onlyDs = samp_data[samp_data['Major'] == \"DS\"]\n",
    "onlyDs"
   ]
  },
  {
   "cell_type": "code",
   "execution_count": 38,
   "id": "ac823775-fc1f-4808-a8ee-ba181180d874",
   "metadata": {},
   "outputs": [
    {
     "data": {
      "text/html": [
       "<div>\n",
       "<style scoped>\n",
       "    .dataframe tbody tr th:only-of-type {\n",
       "        vertical-align: middle;\n",
       "    }\n",
       "\n",
       "    .dataframe tbody tr th {\n",
       "        vertical-align: top;\n",
       "    }\n",
       "\n",
       "    .dataframe thead th {\n",
       "        text-align: right;\n",
       "    }\n",
       "</style>\n",
       "<table border=\"1\" class=\"dataframe\">\n",
       "  <thead>\n",
       "    <tr style=\"text-align: right;\">\n",
       "      <th></th>\n",
       "      <th>Name</th>\n",
       "      <th>Age</th>\n",
       "      <th>Major</th>\n",
       "      <th>GPA</th>\n",
       "      <th>enr_date</th>\n",
       "    </tr>\n",
       "  </thead>\n",
       "  <tbody>\n",
       "    <tr>\n",
       "      <th>0</th>\n",
       "      <td>Alpha</td>\n",
       "      <td>30</td>\n",
       "      <td>CS</td>\n",
       "      <td>3.8</td>\n",
       "      <td>2022-08-15</td>\n",
       "    </tr>\n",
       "    <tr>\n",
       "      <th>2</th>\n",
       "      <td>Gama</td>\n",
       "      <td>21</td>\n",
       "      <td>Maths</td>\n",
       "      <td>3.9</td>\n",
       "      <td>2023-06-10</td>\n",
       "    </tr>\n",
       "  </tbody>\n",
       "</table>\n",
       "</div>"
      ],
      "text/plain": [
       "    Name  Age  Major  GPA   enr_date\n",
       "0  Alpha   30     CS  3.8 2022-08-15\n",
       "2   Gama   21  Maths  3.9 2023-06-10"
      ]
     },
     "execution_count": 38,
     "metadata": {},
     "output_type": "execute_result"
    }
   ],
   "source": [
    "onGpa = samp_data[samp_data[\"GPA\"] > 3.5]\n",
    "onGpa"
   ]
  },
  {
   "cell_type": "code",
   "execution_count": 43,
   "id": "e24d30ee-8671-4bf9-b63b-dcf0cfb9f043",
   "metadata": {},
   "outputs": [
    {
     "data": {
      "text/html": [
       "<div>\n",
       "<style scoped>\n",
       "    .dataframe tbody tr th:only-of-type {\n",
       "        vertical-align: middle;\n",
       "    }\n",
       "\n",
       "    .dataframe tbody tr th {\n",
       "        vertical-align: top;\n",
       "    }\n",
       "\n",
       "    .dataframe thead th {\n",
       "        text-align: right;\n",
       "    }\n",
       "</style>\n",
       "<table border=\"1\" class=\"dataframe\">\n",
       "  <thead>\n",
       "    <tr style=\"text-align: right;\">\n",
       "      <th></th>\n",
       "      <th>Name</th>\n",
       "      <th>Age</th>\n",
       "      <th>Major</th>\n",
       "      <th>GPA</th>\n",
       "      <th>enr_date</th>\n",
       "    </tr>\n",
       "  </thead>\n",
       "  <tbody>\n",
       "    <tr>\n",
       "      <th>0</th>\n",
       "      <td>Alpha</td>\n",
       "      <td>30</td>\n",
       "      <td>CS</td>\n",
       "      <td>3.8</td>\n",
       "      <td>2022-08-15</td>\n",
       "    </tr>\n",
       "    <tr>\n",
       "      <th>1</th>\n",
       "      <td>Beta</td>\n",
       "      <td>23</td>\n",
       "      <td>DS</td>\n",
       "      <td>3.2</td>\n",
       "      <td>2021-09-01</td>\n",
       "    </tr>\n",
       "    <tr>\n",
       "      <th>3</th>\n",
       "      <td>Zeta</td>\n",
       "      <td>32</td>\n",
       "      <td>DS</td>\n",
       "      <td>3.1</td>\n",
       "      <td>2022-01-20</td>\n",
       "    </tr>\n",
       "  </tbody>\n",
       "</table>\n",
       "</div>"
      ],
      "text/plain": [
       "    Name  Age Major  GPA   enr_date\n",
       "0  Alpha   30    CS  3.8 2022-08-15\n",
       "1   Beta   23    DS  3.2 2021-09-01\n",
       "3   Zeta   32    DS  3.1 2022-01-20"
      ]
     },
     "execution_count": 43,
     "metadata": {},
     "output_type": "execute_result"
    }
   ],
   "source": [
    "both = samp_data[samp_data[\"Major\"].isin([\"CS\", \"DS\"])]\n",
    "both"
   ]
  },
  {
   "cell_type": "code",
   "execution_count": 44,
   "id": "03568a4c-bc3d-47de-8c00-4f777ee12646",
   "metadata": {},
   "outputs": [
    {
     "data": {
      "text/html": [
       "<div>\n",
       "<style scoped>\n",
       "    .dataframe tbody tr th:only-of-type {\n",
       "        vertical-align: middle;\n",
       "    }\n",
       "\n",
       "    .dataframe tbody tr th {\n",
       "        vertical-align: top;\n",
       "    }\n",
       "\n",
       "    .dataframe thead th {\n",
       "        text-align: right;\n",
       "    }\n",
       "</style>\n",
       "<table border=\"1\" class=\"dataframe\">\n",
       "  <thead>\n",
       "    <tr style=\"text-align: right;\">\n",
       "      <th></th>\n",
       "      <th>Name</th>\n",
       "      <th>Age</th>\n",
       "      <th>Major</th>\n",
       "      <th>GPA</th>\n",
       "      <th>enr_date</th>\n",
       "    </tr>\n",
       "  </thead>\n",
       "  <tbody>\n",
       "  </tbody>\n",
       "</table>\n",
       "</div>"
      ],
      "text/plain": [
       "Empty DataFrame\n",
       "Columns: [Name, Age, Major, GPA, enr_date]\n",
       "Index: []"
      ]
     },
     "execution_count": 44,
     "metadata": {},
     "output_type": "execute_result"
    }
   ],
   "source": [
    "filt = samp_data[samp_data[\"GPA\"].isna()]\n",
    "filt"
   ]
  },
  {
   "cell_type": "code",
   "execution_count": 45,
   "id": "4735f9e9-ae58-4b9b-9b9a-4eebe5f8a08d",
   "metadata": {},
   "outputs": [
    {
     "data": {
      "text/html": [
       "<div>\n",
       "<style scoped>\n",
       "    .dataframe tbody tr th:only-of-type {\n",
       "        vertical-align: middle;\n",
       "    }\n",
       "\n",
       "    .dataframe tbody tr th {\n",
       "        vertical-align: top;\n",
       "    }\n",
       "\n",
       "    .dataframe thead th {\n",
       "        text-align: right;\n",
       "    }\n",
       "</style>\n",
       "<table border=\"1\" class=\"dataframe\">\n",
       "  <thead>\n",
       "    <tr style=\"text-align: right;\">\n",
       "      <th></th>\n",
       "      <th>Name</th>\n",
       "      <th>Age</th>\n",
       "      <th>Major</th>\n",
       "      <th>GPA</th>\n",
       "      <th>enr_date</th>\n",
       "    </tr>\n",
       "  </thead>\n",
       "  <tbody>\n",
       "    <tr>\n",
       "      <th>2</th>\n",
       "      <td>Gama</td>\n",
       "      <td>21</td>\n",
       "      <td>Maths</td>\n",
       "      <td>3.9</td>\n",
       "      <td>2023-06-10</td>\n",
       "    </tr>\n",
       "  </tbody>\n",
       "</table>\n",
       "</div>"
      ],
      "text/plain": [
       "   Name  Age  Major  GPA   enr_date\n",
       "2  Gama   21  Maths  3.9 2023-06-10"
      ]
     },
     "execution_count": 45,
     "metadata": {},
     "output_type": "execute_result"
    }
   ],
   "source": [
    "da = samp_data[samp_data[\"enr_date\"] > '2023-01-01']\n",
    "da"
   ]
  },
  {
   "cell_type": "code",
   "execution_count": 47,
   "id": "2dae7537-c241-400e-95cb-17875c7ff947",
   "metadata": {},
   "outputs": [
    {
     "data": {
      "text/html": [
       "<div>\n",
       "<style scoped>\n",
       "    .dataframe tbody tr th:only-of-type {\n",
       "        vertical-align: middle;\n",
       "    }\n",
       "\n",
       "    .dataframe tbody tr th {\n",
       "        vertical-align: top;\n",
       "    }\n",
       "\n",
       "    .dataframe thead th {\n",
       "        text-align: right;\n",
       "    }\n",
       "</style>\n",
       "<table border=\"1\" class=\"dataframe\">\n",
       "  <thead>\n",
       "    <tr style=\"text-align: right;\">\n",
       "      <th></th>\n",
       "      <th>Name</th>\n",
       "      <th>Age</th>\n",
       "      <th>Major</th>\n",
       "      <th>GPA</th>\n",
       "      <th>enr_date</th>\n",
       "    </tr>\n",
       "  </thead>\n",
       "  <tbody>\n",
       "    <tr>\n",
       "      <th>0</th>\n",
       "      <td>Alpha</td>\n",
       "      <td>30</td>\n",
       "      <td>CS</td>\n",
       "      <td>3.8</td>\n",
       "      <td>2022-08-15</td>\n",
       "    </tr>\n",
       "    <tr>\n",
       "      <th>1</th>\n",
       "      <td>Beta</td>\n",
       "      <td>23</td>\n",
       "      <td>DS</td>\n",
       "      <td>3.2</td>\n",
       "      <td>2021-09-01</td>\n",
       "    </tr>\n",
       "    <tr>\n",
       "      <th>2</th>\n",
       "      <td>Gama</td>\n",
       "      <td>21</td>\n",
       "      <td>Maths</td>\n",
       "      <td>3.9</td>\n",
       "      <td>2023-06-10</td>\n",
       "    </tr>\n",
       "    <tr>\n",
       "      <th>3</th>\n",
       "      <td>Zeta</td>\n",
       "      <td>32</td>\n",
       "      <td>DS</td>\n",
       "      <td>3.1</td>\n",
       "      <td>2022-01-20</td>\n",
       "    </tr>\n",
       "  </tbody>\n",
       "</table>\n",
       "</div>"
      ],
      "text/plain": [
       "    Name  Age  Major  GPA   enr_date\n",
       "0  Alpha   30     CS  3.8 2022-08-15\n",
       "1   Beta   23     DS  3.2 2021-09-01\n",
       "2   Gama   21  Maths  3.9 2023-06-10\n",
       "3   Zeta   32     DS  3.1 2022-01-20"
      ]
     },
     "execution_count": 47,
     "metadata": {},
     "output_type": "execute_result"
    }
   ],
   "source": [
    "da = samp_data[samp_data[\"Name\"].str.contains(\"a\", case=False)]\n",
    "da"
   ]
  },
  {
   "cell_type": "code",
   "execution_count": 51,
   "id": "c10cbbc4-e0ec-402c-8479-56501fe23225",
   "metadata": {},
   "outputs": [
    {
     "name": "stdout",
     "output_type": "stream",
     "text": [
      "    Name  Age  Major  GPA   enr_date  enr_year\n",
      "0  Alpha   30     CS  3.8 2022-08-15      2022\n",
      "1   Beta   23     DS  3.2 2021-09-01      2021\n",
      "2   Gama   21  Maths  3.9 2023-06-10      2023\n",
      "3   Zeta   32     DS  3.1 2022-01-20      2022\n"
     ]
    }
   ],
   "source": [
    "samp_data['enr_year'] = samp_data['enr_date'].dt.year\n",
    "print(samp_data)"
   ]
  },
  {
   "cell_type": "code",
   "execution_count": 58,
   "id": "f9c957cd-e6a1-4817-96e4-932ce9f4096a",
   "metadata": {},
   "outputs": [
    {
     "data": {
      "text/html": [
       "<div>\n",
       "<style scoped>\n",
       "    .dataframe tbody tr th:only-of-type {\n",
       "        vertical-align: middle;\n",
       "    }\n",
       "\n",
       "    .dataframe tbody tr th {\n",
       "        vertical-align: top;\n",
       "    }\n",
       "\n",
       "    .dataframe thead th {\n",
       "        text-align: right;\n",
       "    }\n",
       "</style>\n",
       "<table border=\"1\" class=\"dataframe\">\n",
       "  <thead>\n",
       "    <tr style=\"text-align: right;\">\n",
       "      <th></th>\n",
       "      <th>Name</th>\n",
       "      <th>Age</th>\n",
       "      <th>Major</th>\n",
       "      <th>GPA</th>\n",
       "      <th>enr_date</th>\n",
       "      <th>enr_year</th>\n",
       "      <th>enr_today</th>\n",
       "    </tr>\n",
       "  </thead>\n",
       "  <tbody>\n",
       "    <tr>\n",
       "      <th>0</th>\n",
       "      <td>Alpha</td>\n",
       "      <td>30</td>\n",
       "      <td>CS</td>\n",
       "      <td>3.8</td>\n",
       "      <td>2022-08-15</td>\n",
       "      <td>2022</td>\n",
       "      <td>913</td>\n",
       "    </tr>\n",
       "    <tr>\n",
       "      <th>1</th>\n",
       "      <td>Beta</td>\n",
       "      <td>23</td>\n",
       "      <td>DS</td>\n",
       "      <td>3.2</td>\n",
       "      <td>2021-09-01</td>\n",
       "      <td>2021</td>\n",
       "      <td>1261</td>\n",
       "    </tr>\n",
       "    <tr>\n",
       "      <th>2</th>\n",
       "      <td>Gama</td>\n",
       "      <td>21</td>\n",
       "      <td>Maths</td>\n",
       "      <td>3.9</td>\n",
       "      <td>2023-06-10</td>\n",
       "      <td>2023</td>\n",
       "      <td>614</td>\n",
       "    </tr>\n",
       "    <tr>\n",
       "      <th>3</th>\n",
       "      <td>Zeta</td>\n",
       "      <td>32</td>\n",
       "      <td>DS</td>\n",
       "      <td>3.1</td>\n",
       "      <td>2022-01-20</td>\n",
       "      <td>2022</td>\n",
       "      <td>1120</td>\n",
       "    </tr>\n",
       "  </tbody>\n",
       "</table>\n",
       "</div>"
      ],
      "text/plain": [
       "    Name  Age  Major  GPA   enr_date  enr_year  enr_today\n",
       "0  Alpha   30     CS  3.8 2022-08-15      2022        913\n",
       "1   Beta   23     DS  3.2 2021-09-01      2021       1261\n",
       "2   Gama   21  Maths  3.9 2023-06-10      2023        614\n",
       "3   Zeta   32     DS  3.1 2022-01-20      2022       1120"
      ]
     },
     "execution_count": 58,
     "metadata": {},
     "output_type": "execute_result"
    }
   ],
   "source": [
    "from datetime import datetime\n",
    "\n",
    "today = datetime.today()\n",
    "samp_data['enr_today'] = (today - samp_data['enr_date']).dt.days\n",
    "samp_data"
   ]
  },
  {
   "cell_type": "code",
   "execution_count": 60,
   "id": "1520ade3-ff6a-4cf5-8eb7-1d6d1bbe7fa3",
   "metadata": {},
   "outputs": [
    {
     "data": {
      "text/html": [
       "<div>\n",
       "<style scoped>\n",
       "    .dataframe tbody tr th:only-of-type {\n",
       "        vertical-align: middle;\n",
       "    }\n",
       "\n",
       "    .dataframe tbody tr th {\n",
       "        vertical-align: top;\n",
       "    }\n",
       "\n",
       "    .dataframe thead th {\n",
       "        text-align: right;\n",
       "    }\n",
       "</style>\n",
       "<table border=\"1\" class=\"dataframe\">\n",
       "  <thead>\n",
       "    <tr style=\"text-align: right;\">\n",
       "      <th></th>\n",
       "      <th>Age</th>\n",
       "      <th>City</th>\n",
       "    </tr>\n",
       "    <tr>\n",
       "      <th>Name</th>\n",
       "      <th></th>\n",
       "      <th></th>\n",
       "    </tr>\n",
       "  </thead>\n",
       "  <tbody>\n",
       "    <tr>\n",
       "      <th>tejas</th>\n",
       "      <td>18</td>\n",
       "      <td>adad</td>\n",
       "    </tr>\n",
       "    <tr>\n",
       "      <th>ronaldo</th>\n",
       "      <td>19</td>\n",
       "      <td>adad</td>\n",
       "    </tr>\n",
       "    <tr>\n",
       "      <th>messi</th>\n",
       "      <td>29</td>\n",
       "      <td>eref</td>\n",
       "    </tr>\n",
       "    <tr>\n",
       "      <th>kohli</th>\n",
       "      <td>31</td>\n",
       "      <td>adfewf</td>\n",
       "    </tr>\n",
       "  </tbody>\n",
       "</table>\n",
       "</div>"
      ],
      "text/plain": [
       "         Age    City\n",
       "Name                \n",
       "tejas     18    adad\n",
       "ronaldo   19    adad\n",
       "messi     29    eref\n",
       "kohli     31  adfewf"
      ]
     },
     "execution_count": 60,
     "metadata": {},
     "output_type": "execute_result"
    }
   ],
   "source": [
    "stud.set_index(\"Name\")"
   ]
  },
  {
   "cell_type": "code",
   "execution_count": 65,
   "id": "0a6437e4-e1ba-4c5a-a91f-5e8672c1a33b",
   "metadata": {},
   "outputs": [
    {
     "name": "stdout",
     "output_type": "stream",
     "text": [
      "[[99, 2, 3], [4, 5, 6]]\n",
      "[[99, 2, 3], [4, 5, 6]]\n"
     ]
    }
   ],
   "source": [
    "# shallow copy changes with og list\n",
    "\n",
    "import copy\n",
    "\n",
    "og_list = [[1,2,3], [4,5,6]]\n",
    "\n",
    "sh_copy = copy.copy(og_list)\n",
    "\n",
    "og_list[0][0] = 99\n",
    "print(og_list)\n",
    "print(sh_copy)"
   ]
  },
  {
   "cell_type": "code",
   "execution_count": 68,
   "id": "1cd3beca-d7b9-4cf1-a78e-3b1ee7ec07e4",
   "metadata": {},
   "outputs": [
    {
     "name": "stdout",
     "output_type": "stream",
     "text": [
      "[[99, 2, 3], [4, 5, 6]]\n",
      "[[1, 2, 3], [4, 5, 6]]\n"
     ]
    }
   ],
   "source": [
    "# deep\n",
    "\n",
    "import copy\n",
    "\n",
    "og_list = [[1,2,3], [4,5,6]]\n",
    "\n",
    "sh_copy = copy.deepcopy(og_list)\n",
    "\n",
    "og_list[0][0] = 99\n",
    "print(og_list)\n",
    "print(sh_copy)"
   ]
  },
  {
   "cell_type": "code",
   "execution_count": 70,
   "id": "532c2e6d-1dd1-48a5-a1d1-0f6fe7f8c283",
   "metadata": {},
   "outputs": [
    {
     "data": {
      "text/html": [
       "<div>\n",
       "<style scoped>\n",
       "    .dataframe tbody tr th:only-of-type {\n",
       "        vertical-align: middle;\n",
       "    }\n",
       "\n",
       "    .dataframe tbody tr th {\n",
       "        vertical-align: top;\n",
       "    }\n",
       "\n",
       "    .dataframe thead th {\n",
       "        text-align: right;\n",
       "    }\n",
       "</style>\n",
       "<table border=\"1\" class=\"dataframe\">\n",
       "  <thead>\n",
       "    <tr style=\"text-align: right;\">\n",
       "      <th></th>\n",
       "      <th>Name</th>\n",
       "      <th>Rollno</th>\n",
       "    </tr>\n",
       "  </thead>\n",
       "  <tbody>\n",
       "    <tr>\n",
       "      <th>0</th>\n",
       "      <td>Tejas</td>\n",
       "      <td>21</td>\n",
       "    </tr>\n",
       "    <tr>\n",
       "      <th>1</th>\n",
       "      <td>Messi</td>\n",
       "      <td>23</td>\n",
       "    </tr>\n",
       "    <tr>\n",
       "      <th>2</th>\n",
       "      <td>Sui</td>\n",
       "      <td>34</td>\n",
       "    </tr>\n",
       "    <tr>\n",
       "      <th>3</th>\n",
       "      <td>Rony</td>\n",
       "      <td>11</td>\n",
       "    </tr>\n",
       "  </tbody>\n",
       "</table>\n",
       "</div>"
      ],
      "text/plain": [
       "    Name  Rollno\n",
       "0  Tejas      21\n",
       "1  Messi      23\n",
       "2    Sui      34\n",
       "3   Rony      11"
      ]
     },
     "execution_count": 70,
     "metadata": {},
     "output_type": "execute_result"
    }
   ],
   "source": [
    "import pandas as pd\n",
    "\n",
    "class_info = {\"Name\": [\"Tejas\", \"Messi\", \"Sui\", \"Rony\"], \"Rollno\": [21,23,34,11]}\n",
    "\n",
    "df1 = pd.DataFrame(class_info)\n",
    "df1"
   ]
  },
  {
   "cell_type": "code",
   "execution_count": 72,
   "id": "8ec4fc29-5290-4a3b-90d9-98bbaf7e8268",
   "metadata": {},
   "outputs": [
    {
     "data": {
      "text/html": [
       "<div>\n",
       "<style scoped>\n",
       "    .dataframe tbody tr th:only-of-type {\n",
       "        vertical-align: middle;\n",
       "    }\n",
       "\n",
       "    .dataframe tbody tr th {\n",
       "        vertical-align: top;\n",
       "    }\n",
       "\n",
       "    .dataframe thead th {\n",
       "        text-align: right;\n",
       "    }\n",
       "</style>\n",
       "<table border=\"1\" class=\"dataframe\">\n",
       "  <thead>\n",
       "    <tr style=\"text-align: right;\">\n",
       "      <th></th>\n",
       "      <th>Name</th>\n",
       "      <th>Rollno</th>\n",
       "      <th>Marks</th>\n",
       "      <th>House</th>\n",
       "    </tr>\n",
       "  </thead>\n",
       "  <tbody>\n",
       "    <tr>\n",
       "      <th>0</th>\n",
       "      <td>Tejas</td>\n",
       "      <td>21</td>\n",
       "      <td>73</td>\n",
       "      <td>adad</td>\n",
       "    </tr>\n",
       "    <tr>\n",
       "      <th>1</th>\n",
       "      <td>Messi</td>\n",
       "      <td>23</td>\n",
       "      <td>65</td>\n",
       "      <td>adadad</td>\n",
       "    </tr>\n",
       "    <tr>\n",
       "      <th>2</th>\n",
       "      <td>Sui</td>\n",
       "      <td>34</td>\n",
       "      <td>73</td>\n",
       "      <td>ereef</td>\n",
       "    </tr>\n",
       "    <tr>\n",
       "      <th>3</th>\n",
       "      <td>Rony</td>\n",
       "      <td>11</td>\n",
       "      <td>21</td>\n",
       "      <td>vdvd</td>\n",
       "    </tr>\n",
       "  </tbody>\n",
       "</table>\n",
       "</div>"
      ],
      "text/plain": [
       "    Name  Rollno  Marks   House\n",
       "0  Tejas      21     73    adad\n",
       "1  Messi      23     65  adadad\n",
       "2    Sui      34     73   ereef\n",
       "3   Rony      11     21    vdvd"
      ]
     },
     "execution_count": 72,
     "metadata": {},
     "output_type": "execute_result"
    }
   ],
   "source": [
    "df1[\"Marks\"] = [73,65,73,21]\n",
    "df1[\"House\"] = [\"adad\", \"adadad\", \"ereef\", \"vdvd\"]\n",
    "df1"
   ]
  },
  {
   "cell_type": "code",
   "execution_count": 79,
   "id": "15524cf7-b72a-4aa9-a369-40f1db5e8a69",
   "metadata": {},
   "outputs": [
    {
     "data": {
      "text/html": [
       "<div>\n",
       "<style scoped>\n",
       "    .dataframe tbody tr th:only-of-type {\n",
       "        vertical-align: middle;\n",
       "    }\n",
       "\n",
       "    .dataframe tbody tr th {\n",
       "        vertical-align: top;\n",
       "    }\n",
       "\n",
       "    .dataframe thead th {\n",
       "        text-align: right;\n",
       "    }\n",
       "</style>\n",
       "<table border=\"1\" class=\"dataframe\">\n",
       "  <thead>\n",
       "    <tr style=\"text-align: right;\">\n",
       "      <th></th>\n",
       "      <th>Name</th>\n",
       "      <th>Marks</th>\n",
       "      <th>House</th>\n",
       "    </tr>\n",
       "    <tr>\n",
       "      <th>Rollno</th>\n",
       "      <th></th>\n",
       "      <th></th>\n",
       "      <th></th>\n",
       "    </tr>\n",
       "  </thead>\n",
       "  <tbody>\n",
       "    <tr>\n",
       "      <th>21</th>\n",
       "      <td>Tejas</td>\n",
       "      <td>73</td>\n",
       "      <td>adad</td>\n",
       "    </tr>\n",
       "    <tr>\n",
       "      <th>23</th>\n",
       "      <td>Messi</td>\n",
       "      <td>65</td>\n",
       "      <td>adadad</td>\n",
       "    </tr>\n",
       "    <tr>\n",
       "      <th>34</th>\n",
       "      <td>Sui</td>\n",
       "      <td>73</td>\n",
       "      <td>ereef</td>\n",
       "    </tr>\n",
       "    <tr>\n",
       "      <th>11</th>\n",
       "      <td>Rony</td>\n",
       "      <td>21</td>\n",
       "      <td>vdvd</td>\n",
       "    </tr>\n",
       "  </tbody>\n",
       "</table>\n",
       "</div>"
      ],
      "text/plain": [
       "         Name  Marks   House\n",
       "Rollno                      \n",
       "21      Tejas     73    adad\n",
       "23      Messi     65  adadad\n",
       "34        Sui     73   ereef\n",
       "11       Rony     21    vdvd"
      ]
     },
     "execution_count": 79,
     "metadata": {},
     "output_type": "execute_result"
    }
   ],
   "source": [
    "roll = df1.set_index(\"Rollno\")\n",
    "roll"
   ]
  },
  {
   "cell_type": "code",
   "execution_count": 94,
   "id": "05ad48ad-16c2-4e7f-a281-616bdef092e3",
   "metadata": {},
   "outputs": [
    {
     "name": "stdout",
     "output_type": "stream",
     "text": [
      "Name        Sui\n",
      "Rollno       34\n",
      "Marks        73\n",
      "House     ereef\n",
      "Name: 2, dtype: object\n"
     ]
    }
   ],
   "source": [
    "df1.loc[2]\n",
    "print(df1.loc[2])"
   ]
  },
  {
   "cell_type": "code",
   "execution_count": 95,
   "id": "eab65993-1065-4b52-8eca-e7f0b01a4240",
   "metadata": {},
   "outputs": [
    {
     "data": {
      "text/html": [
       "<div>\n",
       "<style scoped>\n",
       "    .dataframe tbody tr th:only-of-type {\n",
       "        vertical-align: middle;\n",
       "    }\n",
       "\n",
       "    .dataframe tbody tr th {\n",
       "        vertical-align: top;\n",
       "    }\n",
       "\n",
       "    .dataframe thead th {\n",
       "        text-align: right;\n",
       "    }\n",
       "</style>\n",
       "<table border=\"1\" class=\"dataframe\">\n",
       "  <thead>\n",
       "    <tr style=\"text-align: right;\">\n",
       "      <th></th>\n",
       "      <th>Name</th>\n",
       "    </tr>\n",
       "  </thead>\n",
       "  <tbody>\n",
       "    <tr>\n",
       "      <th>1</th>\n",
       "      <td>Messi</td>\n",
       "    </tr>\n",
       "    <tr>\n",
       "      <th>2</th>\n",
       "      <td>Sui</td>\n",
       "    </tr>\n",
       "    <tr>\n",
       "      <th>3</th>\n",
       "      <td>Rony</td>\n",
       "    </tr>\n",
       "  </tbody>\n",
       "</table>\n",
       "</div>"
      ],
      "text/plain": [
       "    Name\n",
       "1  Messi\n",
       "2    Sui\n",
       "3   Rony"
      ]
     },
     "execution_count": 95,
     "metadata": {},
     "output_type": "execute_result"
    }
   ],
   "source": [
    "df1.loc[1:3, : \"Name\"]"
   ]
  },
  {
   "cell_type": "code",
   "execution_count": null,
   "id": "5539c3fc-e26f-438c-af74-5a69ebfdd99b",
   "metadata": {},
   "outputs": [],
   "source": []
  }
 ],
 "metadata": {
  "kernelspec": {
   "display_name": "Python 3 (ipykernel)",
   "language": "python",
   "name": "python3"
  },
  "language_info": {
   "codemirror_mode": {
    "name": "ipython",
    "version": 3
   },
   "file_extension": ".py",
   "mimetype": "text/x-python",
   "name": "python",
   "nbconvert_exporter": "python",
   "pygments_lexer": "ipython3",
   "version": "3.12.7"
  }
 },
 "nbformat": 4,
 "nbformat_minor": 5
}
