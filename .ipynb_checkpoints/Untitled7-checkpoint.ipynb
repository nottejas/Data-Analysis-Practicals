{
 "cells": [
  {
   "cell_type": "code",
   "execution_count": 6,
   "id": "b3697f38-6869-4022-a5ab-cb444729c057",
   "metadata": {},
   "outputs": [
    {
     "data": {
      "text/html": [
       "<div>\n",
       "<style scoped>\n",
       "    .dataframe tbody tr th:only-of-type {\n",
       "        vertical-align: middle;\n",
       "    }\n",
       "\n",
       "    .dataframe tbody tr th {\n",
       "        vertical-align: top;\n",
       "    }\n",
       "\n",
       "    .dataframe thead th {\n",
       "        text-align: right;\n",
       "    }\n",
       "</style>\n",
       "<table border=\"1\" class=\"dataframe\">\n",
       "  <thead>\n",
       "    <tr style=\"text-align: right;\">\n",
       "      <th></th>\n",
       "      <th>price</th>\n",
       "      <th>area</th>\n",
       "      <th>bedrooms</th>\n",
       "      <th>bathrooms</th>\n",
       "      <th>stories</th>\n",
       "      <th>mainroad</th>\n",
       "      <th>guestroom</th>\n",
       "      <th>basement</th>\n",
       "      <th>hotwaterheating</th>\n",
       "      <th>airconditioning</th>\n",
       "      <th>parking</th>\n",
       "      <th>prefarea</th>\n",
       "      <th>furnishingstatus</th>\n",
       "    </tr>\n",
       "  </thead>\n",
       "  <tbody>\n",
       "    <tr>\n",
       "      <th>0</th>\n",
       "      <td>13300000</td>\n",
       "      <td>7420</td>\n",
       "      <td>4</td>\n",
       "      <td>2</td>\n",
       "      <td>3</td>\n",
       "      <td>yes</td>\n",
       "      <td>no</td>\n",
       "      <td>no</td>\n",
       "      <td>no</td>\n",
       "      <td>yes</td>\n",
       "      <td>2</td>\n",
       "      <td>yes</td>\n",
       "      <td>furnished</td>\n",
       "    </tr>\n",
       "    <tr>\n",
       "      <th>1</th>\n",
       "      <td>12250000</td>\n",
       "      <td>8960</td>\n",
       "      <td>4</td>\n",
       "      <td>4</td>\n",
       "      <td>4</td>\n",
       "      <td>yes</td>\n",
       "      <td>no</td>\n",
       "      <td>no</td>\n",
       "      <td>no</td>\n",
       "      <td>yes</td>\n",
       "      <td>3</td>\n",
       "      <td>no</td>\n",
       "      <td>furnished</td>\n",
       "    </tr>\n",
       "    <tr>\n",
       "      <th>2</th>\n",
       "      <td>12250000</td>\n",
       "      <td>9960</td>\n",
       "      <td>3</td>\n",
       "      <td>2</td>\n",
       "      <td>2</td>\n",
       "      <td>yes</td>\n",
       "      <td>no</td>\n",
       "      <td>yes</td>\n",
       "      <td>no</td>\n",
       "      <td>no</td>\n",
       "      <td>2</td>\n",
       "      <td>yes</td>\n",
       "      <td>semi-furnished</td>\n",
       "    </tr>\n",
       "    <tr>\n",
       "      <th>3</th>\n",
       "      <td>12215000</td>\n",
       "      <td>7500</td>\n",
       "      <td>4</td>\n",
       "      <td>2</td>\n",
       "      <td>2</td>\n",
       "      <td>yes</td>\n",
       "      <td>no</td>\n",
       "      <td>yes</td>\n",
       "      <td>no</td>\n",
       "      <td>yes</td>\n",
       "      <td>3</td>\n",
       "      <td>yes</td>\n",
       "      <td>furnished</td>\n",
       "    </tr>\n",
       "    <tr>\n",
       "      <th>4</th>\n",
       "      <td>11410000</td>\n",
       "      <td>7420</td>\n",
       "      <td>4</td>\n",
       "      <td>1</td>\n",
       "      <td>2</td>\n",
       "      <td>yes</td>\n",
       "      <td>yes</td>\n",
       "      <td>yes</td>\n",
       "      <td>no</td>\n",
       "      <td>yes</td>\n",
       "      <td>2</td>\n",
       "      <td>no</td>\n",
       "      <td>furnished</td>\n",
       "    </tr>\n",
       "  </tbody>\n",
       "</table>\n",
       "</div>"
      ],
      "text/plain": [
       "      price  area  bedrooms  bathrooms  stories mainroad guestroom basement  \\\n",
       "0  13300000  7420         4          2        3      yes        no       no   \n",
       "1  12250000  8960         4          4        4      yes        no       no   \n",
       "2  12250000  9960         3          2        2      yes        no      yes   \n",
       "3  12215000  7500         4          2        2      yes        no      yes   \n",
       "4  11410000  7420         4          1        2      yes       yes      yes   \n",
       "\n",
       "  hotwaterheating airconditioning  parking prefarea furnishingstatus  \n",
       "0              no             yes        2      yes        furnished  \n",
       "1              no             yes        3       no        furnished  \n",
       "2              no              no        2      yes   semi-furnished  \n",
       "3              no             yes        3      yes        furnished  \n",
       "4              no             yes        2       no        furnished  "
      ]
     },
     "execution_count": 6,
     "metadata": {},
     "output_type": "execute_result"
    }
   ],
   "source": [
    "import pandas as pd\n",
    "\n",
    "df = pd.read_csv(\"Housing (1).csv\")\n",
    "df.head()"
   ]
  },
  {
   "cell_type": "code",
   "execution_count": 9,
   "id": "66b723ca-2c7e-4e6d-aa7d-740e7aa6864a",
   "metadata": {},
   "outputs": [
    {
     "name": "stdin",
     "output_type": "stream",
     "text": [
      " ttjas\n"
     ]
    },
    {
     "name": "stdout",
     "output_type": "stream",
     "text": [
      "j : 1\n",
      "s : 1\n",
      "a : 1\n",
      "t : 2\n"
     ]
    }
   ],
   "source": [
    "string = input(\"\")\n",
    "\n",
    "for i in set(string):\n",
    "    freq = string.count(i)\n",
    "    print(f\"{i} : {freq}\")"
   ]
  },
  {
   "cell_type": "code",
   "execution_count": 13,
   "id": "28ec42c4-42b1-460f-b774-d52c9d0855f4",
   "metadata": {},
   "outputs": [
    {
     "name": "stdin",
     "output_type": "stream",
     "text": [
      " weeeewew\n"
     ]
    },
    {
     "name": "stdout",
     "output_type": "stream",
     "text": [
      "weeee$e$\n"
     ]
    }
   ],
   "source": [
    "def replace_char(string):\n",
    "    first_char = string[0]\n",
    "\n",
    "    new_str = first_char + string[1:].replace(first_char, \"$\")\n",
    "\n",
    "    return new_str\n",
    "\n",
    "input_str = input(\"\")\n",
    "\n",
    "result = replace_char(input_str)\n",
    "print(result)"
   ]
  },
  {
   "cell_type": "code",
   "execution_count": 18,
   "id": "4604bd5f-a7a1-4a39-8c6a-8090613b04ed",
   "metadata": {},
   "outputs": [
    {
     "name": "stdin",
     "output_type": "stream",
     "text": [
      " tejas\n"
     ]
    },
    {
     "name": "stdout",
     "output_type": "stream",
     "text": [
      "tjs\n"
     ]
    }
   ],
   "source": [
    "string = input(\"\")\n",
    "\n",
    "val = \"\"\n",
    "\n",
    "for i in range(len(string)):\n",
    "    if(i % 2== 0):\n",
    "        val += string[i]\n",
    "\n",
    "print(val)"
   ]
  },
  {
   "cell_type": "code",
   "execution_count": 22,
   "id": "ac3d744d-2f69-4fb8-b241-5eecc41cccfb",
   "metadata": {},
   "outputs": [
    {
     "name": "stdin",
     "output_type": "stream",
     "text": [
      " tejas\n"
     ]
    },
    {
     "name": "stdout",
     "output_type": "stream",
     "text": [
      "sejat\n"
     ]
    }
   ],
   "source": [
    "string = input(\"\")\n",
    "\n",
    "for i in range(len(string)):\n",
    "    new = string[-1] + string[1:-1] + string[0]\n",
    "\n",
    "print(new)"
   ]
  },
  {
   "cell_type": "code",
   "execution_count": 26,
   "id": "43735711-0361-474c-9ec7-cfa1a51ad43b",
   "metadata": {},
   "outputs": [
    {
     "name": "stdin",
     "output_type": "stream",
     "text": [
      " tejas\n"
     ]
    },
    {
     "name": "stdout",
     "output_type": "stream",
     "text": [
      "sajet\n"
     ]
    }
   ],
   "source": [
    "string = input(\"\")\n",
    "str_rev = string[::-1]\n",
    "print(str_rev)"
   ]
  },
  {
   "cell_type": "code",
   "execution_count": 33,
   "id": "32422750-076d-46b0-8628-47eeea235bba",
   "metadata": {},
   "outputs": [
    {
     "name": "stdin",
     "output_type": "stream",
     "text": [
      " asasaaa aa\n"
     ]
    },
    {
     "name": "stdout",
     "output_type": "stream",
     "text": [
      "100.0\n"
     ]
    }
   ],
   "source": [
    "word = input(\"\")\n",
    "word_list = word.split()\n",
    "\n",
    "long_w = 0\n",
    "short_w = 0\n",
    "\n",
    "for word in word_list:\n",
    "    if len(word) > 6:\n",
    "        long_w += 1\n",
    "    else:\n",
    "        short_w += 1\n",
    "precent = (long_w/short_w) * 100\n",
    "print(precent)"
   ]
  },
  {
   "cell_type": "code",
   "execution_count": 35,
   "id": "639b26e6-3d71-4788-a136-4a206093723f",
   "metadata": {},
   "outputs": [
    {
     "name": "stdout",
     "output_type": "stream",
     "text": [
      "[10, 20, 30, 40]\n"
     ]
    }
   ],
   "source": [
    "roll_nums = [10,20,30,40, 43]\n",
    "select = []\n",
    "\n",
    "for roll in roll_nums:\n",
    "    if roll % 5 == 0:\n",
    "        select.append(roll)\n",
    "res = sorted(select)\n",
    "print(res)"
   ]
  },
  {
   "cell_type": "code",
   "execution_count": null,
   "id": "3553e420-260e-45d8-a334-779745e668af",
   "metadata": {},
   "outputs": [
    {
     "name": "stdin",
     "output_type": "stream",
     "text": [
      "terms 5\n"
     ]
    },
    {
     "name": "stdout",
     "output_type": "stream",
     "text": [
      "Fibo seq\n"
     ]
    }
   ],
   "source": [
    "n = int(input(\"terms\"))\n",
    "n1, n2 = 0, 1\n",
    "count = 0\n",
    "\n",
    "if n == 0:\n",
    "    print(\"adadad\")\n",
    "else:\n",
    "    print(\"Fibo seq\")\n",
    "    while count < n:\n",
    "        nth= n1 + n2\n",
    "        n1 = n2\n",
    "        n2 = nth\n",
    "        count+1"
   ]
  },
  {
   "cell_type": "code",
   "execution_count": null,
   "id": "29b3cd2c-97d1-4800-a76b-d820f6719fb0",
   "metadata": {},
   "outputs": [],
   "source": []
  }
 ],
 "metadata": {
  "kernelspec": {
   "display_name": "Python 3 (ipykernel)",
   "language": "python",
   "name": "python3"
  },
  "language_info": {
   "codemirror_mode": {
    "name": "ipython",
    "version": 3
   },
   "file_extension": ".py",
   "mimetype": "text/x-python",
   "name": "python",
   "nbconvert_exporter": "python",
   "pygments_lexer": "ipython3",
   "version": "3.12.7"
  }
 },
 "nbformat": 4,
 "nbformat_minor": 5
}
