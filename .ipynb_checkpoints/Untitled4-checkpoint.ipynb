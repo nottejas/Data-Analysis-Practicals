{
 "cells": [
  {
   "cell_type": "code",
   "execution_count": 2,
   "id": "37595175-a119-4e35-9994-7a4cef87654f",
   "metadata": {},
   "outputs": [
    {
     "name": "stdout",
     "output_type": "stream",
     "text": [
      "[2, 4, 6, 8, 10, 12, 14, 16, 18, 20, 22, 24]\n"
     ]
    }
   ],
   "source": [
    "twoTimes = []\n",
    "for i in range(1, 13):\n",
    "    twoTimes.append(2*i)\n",
    "\n",
    "print(twoTimes)"
   ]
  },
  {
   "cell_type": "code",
   "execution_count": 4,
   "id": "3fc60824-0e0e-4091-80cf-caa8aa70d62b",
   "metadata": {},
   "outputs": [
    {
     "name": "stdout",
     "output_type": "stream",
     "text": [
      "[2, 4, 6, 8, 10, 12, 14, 16, 18, 20, 22, 24]\n"
     ]
    }
   ],
   "source": [
    "tableTwo = [2*i for i in range(1, 13)]\n",
    "print(tableTwo)"
   ]
  },
  {
   "cell_type": "code",
   "execution_count": 6,
   "id": "b8b03e3c-e15d-414e-bc3a-db33a5ebf915",
   "metadata": {},
   "outputs": [
    {
     "name": "stdout",
     "output_type": "stream",
     "text": [
      "['t', 'e', 'j', 'a', 's']\n"
     ]
    }
   ],
   "source": [
    "str1= \"Hello world\"\n",
    "letterList = []\n",
    "for letter in str:\n",
    "    letterList.append(letter)\n",
    "print(letterList)"
   ]
  },
  {
   "cell_type": "code",
   "execution_count": 8,
   "id": "3f6d5ffd-2314-4151-824a-58ee2cf5b91c",
   "metadata": {},
   "outputs": [
    {
     "name": "stdout",
     "output_type": "stream",
     "text": [
      "[1, 3, 5, 7, 9, 11, 13, 15, 17, 19]\n"
     ]
    }
   ],
   "source": [
    "odd = [i for i in range(20) if i%2!=0]\n",
    "print(odd)"
   ]
  },
  {
   "cell_type": "code",
   "execution_count": 9,
   "id": "ead501a8-b56c-4a83-8b42-00d9210d9c05",
   "metadata": {},
   "outputs": [
    {
     "name": "stdout",
     "output_type": "stream",
     "text": [
      "['even', 'odd', 'even', 'odd', 'even', 'odd', 'even', 'odd', 'even', 'odd', 'even', 'odd', 'even', 'odd', 'even', 'odd', 'even', 'odd', 'even', 'odd', 'even']\n"
     ]
    }
   ],
   "source": [
    "num = [\"odd\" if i%2!=0 else \"even\" for i in range(21)]\n",
    "print(num)"
   ]
  },
  {
   "cell_type": "code",
   "execution_count": 11,
   "id": "0ea78210-6735-4d13-900a-62320fac3ab0",
   "metadata": {},
   "outputs": [
    {
     "name": "stdout",
     "output_type": "stream",
     "text": [
      "{1: 2, 2: 4, 3: 6, 4: 8, 5: 10, 6: 12, 7: 14, 8: 16, 9: 18, 10: 20, 11: 22, 12: 24}\n"
     ]
    }
   ],
   "source": [
    "tableTwo = {i:2*i for i in range(1, 13)}\n",
    "print(tableTwo)"
   ]
  },
  {
   "cell_type": "code",
   "execution_count": 12,
   "id": "1be845a2-e361-4436-868f-bc4ec45dfdd0",
   "metadata": {},
   "outputs": [
    {
     "name": "stdout",
     "output_type": "stream",
     "text": [
      "{1: 2, 2: 4, 3: 6, 4: 8, 5: 10, 6: 12, 7: 14, 8: 16, 9: 18, 10: 20, 11: 22, 12: 24}\n"
     ]
    }
   ],
   "source": [
    "twoTimes = {}\n",
    "for i in range(1, 13):\n",
    "    twoTimes[i] = 2*i\n",
    "print(twoTimes)"
   ]
  },
  {
   "cell_type": "code",
   "execution_count": 16,
   "id": "1ea83d4b-58a9-48a6-8079-f5379e5ecaad",
   "metadata": {},
   "outputs": [
    {
     "name": "stdout",
     "output_type": "stream",
     "text": [
      "{'Ram': 23, 'Rahul': 25, 'Seema': 27, 'Lala': 19}\n"
     ]
    }
   ],
   "source": [
    "students = [\"Ram\", \"Rahul\", \"Seema\", \"Lala\"]\n",
    "makrs = [23, 25, 27, 19]\n",
    "result = {s:m for s, m in zip(students,makrs)}\n",
    "print(result)"
   ]
  },
  {
   "cell_type": "code",
   "execution_count": 19,
   "id": "9c030f14-0df9-49c2-87b1-cb6bf9c7333a",
   "metadata": {},
   "outputs": [
    {
     "name": "stdin",
     "output_type": "stream",
     "text": [
      "Enter only 0 or 1:  111110\n"
     ]
    },
    {
     "name": "stdout",
     "output_type": "stream",
     "text": [
      "YES\n"
     ]
    }
   ],
   "source": [
    "num = input(\"Enter only 0 or 1: \")\n",
    "\n",
    "def count(a):\n",
    "    count_0 = a.count('0')  \n",
    "    count_1 = a.count('1')  \n",
    "\n",
    "    if (count_0 == 1) or (count_1 == 1):\n",
    "        print(\"YES\")\n",
    "    else:\n",
    "        print(\"NO\")\n",
    "\n",
    "count(num)\n"
   ]
  },
  {
   "cell_type": "code",
   "execution_count": 26,
   "id": "44941f91-ce56-44b7-9cbb-856dc9a530ba",
   "metadata": {},
   "outputs": [
    {
     "name": "stdout",
     "output_type": "stream",
     "text": [
      "in: 3\n",
      "a: 5\n",
      "hole: 3\n",
      "the: 2\n",
      "ground: 1\n",
      "there: 1\n",
      "lived: 1\n",
      "hobbit: 1\n",
      "not: 1\n",
      "nasty: 1\n",
      "dirty: 1\n",
      "wet: 1\n",
      "filled: 1\n",
      "with: 2\n",
      "ends: 1\n",
      "of: 1\n",
      "worms: 1\n",
      "and: 2\n",
      "an: 1\n",
      "oozy: 1\n",
      "smell: 1\n",
      "nor: 1\n",
      "yet: 1\n",
      "dry: 1\n",
      "bare: 1\n",
      "sandy: 1\n",
      "nothing: 1\n",
      "it: 2\n",
      "to: 2\n",
      "sit: 1\n",
      "down: 1\n",
      "on: 1\n",
      "or: 1\n",
      "eat: 1\n",
      "was: 1\n",
      "hobbithole: 1\n",
      "that: 1\n",
      "means: 1\n",
      "comfort: 1\n"
     ]
    }
   ],
   "source": [
    "import string\n",
    "\n",
    "def word_freq(para):\n",
    "    clean_text = para.translate(str.maketrans('', '', string.punctuation)).lower()\n",
    "    \n",
    "    words = clean_text.split()\n",
    "\n",
    "    word_freq = {}\n",
    "    for word in words:\n",
    "        word_freq[word] = word_freq.get(word, 0) + 1\n",
    "\n",
    "    return word_freq\n",
    "\n",
    "\n",
    "para = \"\"\"In a hole in the ground there lived a hobbit. \n",
    "Not a nasty, dirty, wet hole, filled with the ends of worms and an oozy smell, nor yet a dry, bare, \n",
    "sandy hole with nothing in it to sit down on or to eat: it was a hobbit-hole, and that means comfort.\"\"\"\n",
    "frq = word_freq(para)\n",
    "\n",
    "for word, freq in frq.items():\n",
    "    print(f\"{word}: {freq}\")\n"
   ]
  },
  {
   "cell_type": "code",
   "execution_count": null,
   "id": "ebee93e8-2f02-41a4-872c-a0fe7adaf631",
   "metadata": {},
   "outputs": [],
   "source": []
  }
 ],
 "metadata": {
  "kernelspec": {
   "display_name": "Python 3 (ipykernel)",
   "language": "python",
   "name": "python3"
  },
  "language_info": {
   "codemirror_mode": {
    "name": "ipython",
    "version": 3
   },
   "file_extension": ".py",
   "mimetype": "text/x-python",
   "name": "python",
   "nbconvert_exporter": "python",
   "pygments_lexer": "ipython3",
   "version": "3.12.7"
  }
 },
 "nbformat": 4,
 "nbformat_minor": 5
}
