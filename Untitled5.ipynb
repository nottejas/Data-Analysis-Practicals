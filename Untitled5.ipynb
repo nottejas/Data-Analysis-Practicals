{
 "cells": [
  {
   "cell_type": "code",
   "execution_count": 4,
   "id": "cbfe0efe-7079-4a3d-8475-9a192305e8de",
   "metadata": {},
   "outputs": [
    {
     "name": "stdout",
     "output_type": "stream",
     "text": [
      "24\n",
      "12\n",
      "8\n",
      "6\n"
     ]
    }
   ],
   "source": [
    "import math\n",
    "my_list = [1, 2, 3, 4]\n",
    "\n",
    "for i in range(len(my_list)):\n",
    "    first = my_list[0:i]\n",
    "    second = my_list[i+1:]\n",
    "    print(math.prod(first+second))"
   ]
  },
  {
   "cell_type": "code",
   "execution_count": 9,
   "id": "d73d6fdf-d33a-4d3b-99ba-630b333382f8",
   "metadata": {},
   "outputs": [
    {
     "name": "stdout",
     "output_type": "stream",
     "text": [
      "-1\n"
     ]
    }
   ],
   "source": [
    "def find_prod(num1, num2, num3):\n",
    "    if(num1 == 7):  \n",
    "        print(num2 * num3)\n",
    "    elif(num2 == 7):  \n",
    "        print(num3)\n",
    "    elif(num3 == 7):  \n",
    "        print(\"-1\")\n",
    "    else:  \n",
    "        print(num1 * num2 * num3)\n",
    "\n",
    "find_prod(1,5,7)\n"
   ]
  },
  {
   "cell_type": "code",
   "execution_count": 20,
   "id": "374fd4d1-6fb1-4044-849c-24124492d18a",
   "metadata": {},
   "outputs": [
    {
     "name": "stdout",
     "output_type": "stream",
     "text": [
      "Can be formed\n"
     ]
    }
   ],
   "source": [
    "def trian(num1, num2, num3):\n",
    "    if(num1 > num2 + num3):\n",
    "        print(\"Cant form\")\n",
    "    elif(num2 > num1 + num3):\n",
    "        print(\"Cant form\")\n",
    "    elif(num3 > num1 + num2):\n",
    "        print(\"Cant form\")\n",
    "    else:\n",
    "        print(\"Can be formed\")\n",
    "\n",
    "trian(3, 3, 3)"
   ]
  },
  {
   "cell_type": "code",
   "execution_count": 24,
   "id": "9485829d-b5a7-47cc-bad4-87f333ead7f9",
   "metadata": {},
   "outputs": [
    {
     "name": "stdin",
     "output_type": "stream",
     "text": [
      " 1\n"
     ]
    },
    {
     "name": "stdout",
     "output_type": "stream",
     "text": [
      "abcef\n"
     ]
    }
   ],
   "source": [
    "st = \"abcef\"\n",
    "\n",
    "\n",
    "replace = int(input(\"enter index to replace\"))\n",
    "\n",
    "for char in st:\n",
    "    while char != replace:\n",
    "        "
   ]
  },
  {
   "cell_type": "code",
   "execution_count": null,
   "id": "3e304fd2-af51-4809-b444-30884138b24d",
   "metadata": {},
   "outputs": [],
   "source": []
  }
 ],
 "metadata": {
  "kernelspec": {
   "display_name": "Python 3 (ipykernel)",
   "language": "python",
   "name": "python3"
  },
  "language_info": {
   "codemirror_mode": {
    "name": "ipython",
    "version": 3
   },
   "file_extension": ".py",
   "mimetype": "text/x-python",
   "name": "python",
   "nbconvert_exporter": "python",
   "pygments_lexer": "ipython3",
   "version": "3.12.7"
  }
 },
 "nbformat": 4,
 "nbformat_minor": 5
}
