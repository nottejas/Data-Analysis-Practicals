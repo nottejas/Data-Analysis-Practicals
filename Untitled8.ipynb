{
 "cells": [
  {
   "cell_type": "code",
   "execution_count": 6,
   "id": "96254785-a6d1-403f-a161-3cda5a8707ba",
   "metadata": {},
   "outputs": [
    {
     "name": "stdout",
     "output_type": "stream",
     "text": [
      "Player A : 20\n",
      "Player B : 20\n",
      "Player C : 40\n"
     ]
    }
   ],
   "source": [
    "player_score = {\n",
    "    \"Player A\": 20,\n",
    "    \"Player B\": 20,\n",
    "    \"Player C\": 40\n",
    "}\n",
    "\n",
    "for player, score in player_score.items():\n",
    "    print(player, \":\", score)"
   ]
  },
  {
   "cell_type": "code",
   "execution_count": 7,
   "id": "d8adfbd5-3f83-4330-a40f-181c5495a002",
   "metadata": {},
   "outputs": [
    {
     "name": "stdout",
     "output_type": "stream",
     "text": [
      "26.666666666666668\n"
     ]
    }
   ],
   "source": [
    "avg = sum(player_score.values()) / len(player_score)\n",
    "print(avg)"
   ]
  },
  {
   "cell_type": "code",
   "execution_count": 8,
   "id": "af5e7f69-4dde-44c3-a492-f28bb047804e",
   "metadata": {},
   "outputs": [
    {
     "name": "stdout",
     "output_type": "stream",
     "text": [
      "['Player C']\n"
     ]
    }
   ],
   "source": [
    "above_avg = [player for player, score in player_score.items() if score > avg]\n",
    "print(above_avg)"
   ]
  },
  {
   "cell_type": "code",
   "execution_count": 11,
   "id": "9208df8b-7389-4cb0-9d0d-2be95ead642c",
   "metadata": {},
   "outputs": [
    {
     "name": "stdout",
     "output_type": "stream",
     "text": [
      "[('Player C', 40), ('Player A', 20), ('Player B', 20)]\n"
     ]
    }
   ],
   "source": [
    "sort = sorted(player_score.items(), key=lambda x: x[1], reverse = True)\n",
    "print(sort)"
   ]
  },
  {
   "cell_type": "code",
   "execution_count": 15,
   "id": "1acd4185-9e5a-414b-aefd-aeb88ae296d3",
   "metadata": {},
   "outputs": [],
   "source": [
    "guitar = {\"Alice\", \"Bob\", \"Charlie\", \"David\"}\n",
    "piano = {\"Bob\", \"Eve\", \"Frank\", \"Alice\"}\n",
    "violin = {\"Charlie\", \"Eve\", \"George\", \"Alice\"}\n"
   ]
  },
  {
   "cell_type": "code",
   "execution_count": 16,
   "id": "c2e8b26b-76e4-4cdb-b2f8-fbf99c768020",
   "metadata": {},
   "outputs": [
    {
     "name": "stdout",
     "output_type": "stream",
     "text": [
      "Students enrolled in all three classes: {'Alice'}\n"
     ]
    }
   ],
   "source": [
    "all_three = guitar.intersection(piano, violin)\n",
    "print(\"Students enrolled in all three classes:\", all_three)\n"
   ]
  },
  {
   "cell_type": "code",
   "execution_count": 17,
   "id": "35a36505-9748-4130-80dc-98998bcde605",
   "metadata": {},
   "outputs": [
    {
     "data": {
      "text/plain": [
       "{'Alice', 'Bob', 'Charlie', 'David', 'Eve', 'Frank', 'George'}"
      ]
     },
     "execution_count": 17,
     "metadata": {},
     "output_type": "execute_result"
    }
   ],
   "source": [
    "uni = guitar.union(piano, violin)\n",
    "uni"
   ]
  },
  {
   "cell_type": "code",
   "execution_count": 18,
   "id": "09a86ee6-9e87-4479-9f1a-c61fc3fdfca6",
   "metadata": {},
   "outputs": [
    {
     "name": "stdout",
     "output_type": "stream",
     "text": [
      "v\n"
     ]
    }
   ],
   "source": [
    "large = max({\"guitar\": len(guitar), \"p\": len(piano), \"v\": len(violin)})\n",
    "print(large)"
   ]
  },
  {
   "cell_type": "code",
   "execution_count": null,
   "id": "aba4710a-f880-4109-aa10-4f6029bd92bb",
   "metadata": {},
   "outputs": [],
   "source": []
  }
 ],
 "metadata": {
  "kernelspec": {
   "display_name": "Python 3 (ipykernel)",
   "language": "python",
   "name": "python3"
  },
  "language_info": {
   "codemirror_mode": {
    "name": "ipython",
    "version": 3
   },
   "file_extension": ".py",
   "mimetype": "text/x-python",
   "name": "python",
   "nbconvert_exporter": "python",
   "pygments_lexer": "ipython3",
   "version": "3.12.7"
  }
 },
 "nbformat": 4,
 "nbformat_minor": 5
}
