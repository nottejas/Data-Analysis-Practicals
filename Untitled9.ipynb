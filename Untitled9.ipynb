{
 "cells": [
  {
   "cell_type": "code",
   "execution_count": 5,
   "id": "ec99dab7-9a6d-4289-b58f-a45cad1290a9",
   "metadata": {},
   "outputs": [
    {
     "name": "stdin",
     "output_type": "stream",
     "text": [
      " 3\n",
      "Enter Student Name:  as\n",
      "Enter Roll Number:  2\n",
      "Enter SAP ID:  ada2\n",
      "Enter Program:  asas\n",
      "Enter Semester (I/II/III):  2\n",
      "Enter Marks:  22\n",
      "Enter Student Name:  dssd\n",
      "Enter Roll Number:  23\n",
      "Enter SAP ID:  ad2\n",
      "Enter Program:  sff\n",
      "Enter Semester (I/II/III):  1\n",
      "Enter Marks:  33\n",
      "Enter Student Name:  sdsd\n",
      "Enter Roll Number:  23\n",
      "Enter SAP ID:  sd1\n",
      "Enter Program:  sdsd\n",
      "Enter Semester (I/II/III):  2\n",
      "Enter Marks:  22\n",
      "Enter name to search:  as\n",
      "Enter SAP ID to search:  ada2\n"
     ]
    },
    {
     "name": "stdout",
     "output_type": "stream",
     "text": [
      "Search Result: [('as', 2, 'ada2', 'asas', '2', 22, 'Fail')]\n"
     ]
    },
    {
     "name": "stdin",
     "output_type": "stream",
     "text": [
      "Enter name of student to update marks:  as\n",
      "Enter SAP ID:  ada2\n",
      "Enter new marks:  444\n"
     ]
    },
    {
     "name": "stdout",
     "output_type": "stream",
     "text": [
      "Updated Student Info: [('as', 2, 'ada2', 'asas', '2', 444, 'Pass')]\n"
     ]
    }
   ],
   "source": [
    "# 10 marks\n",
    "import sqlite3\n",
    "\n",
    "# Connect to database (or create one)\n",
    "conn = sqlite3.connect('student.db')\n",
    "cursor = conn.cursor()\n",
    "\n",
    "# Create table\n",
    "cursor.execute('''\n",
    "CREATE TABLE IF NOT EXISTS student (\n",
    "    Name TEXT,\n",
    "    RollNumber INTEGER,\n",
    "    SAP_ID TEXT,\n",
    "    Program TEXT,\n",
    "    Semester TEXT,\n",
    "    Marks INTEGER,\n",
    "    Result TEXT\n",
    ")\n",
    "''')\n",
    "\n",
    "# Insert data dynamically from user input\n",
    "num_students = int(input())\n",
    "for _ in range(num_students):\n",
    "    name = input(\"Enter Student Name: \")\n",
    "    roll_number = int(input(\"Enter Roll Number: \"))\n",
    "    sap_id = input(\"Enter SAP ID: \")\n",
    "    program = input(\"Enter Program: \")\n",
    "    semester = input(\"Enter Semester (I/II/III): \")\n",
    "    marks = int(input(\"Enter Marks: \"))\n",
    "    result = 'Pass' if marks >= 35 else 'Fail'  # Simple pass/fail condition\n",
    "    \n",
    "    cursor.execute(\"INSERT INTO student VALUES (?, ?, ?, ?, ?, ?, ?)\",\n",
    "                   (name, roll_number, sap_id, program, semester, marks, result))\n",
    "\n",
    "conn.commit()\n",
    "\n",
    "# Search by Name and SAP_ID\n",
    "search_name = input(\"Enter name to search: \")\n",
    "search_sap_id = input(\"Enter SAP ID to search: \")\n",
    "cursor.execute(\"SELECT * FROM student WHERE Name = ? AND SAP_ID = ?\", (search_name, search_sap_id))\n",
    "print(\"Search Result:\", cursor.fetchall())\n",
    "\n",
    "# Update marks for a specific student (e.g. Aryan)\n",
    "update_name = input(\"Enter name of student to update marks: \")\n",
    "update_sap_id = input(\"Enter SAP ID: \")\n",
    "new_marks = int(input(\"Enter new marks: \"))\n",
    "new_result = 'Pass' if new_marks >= 35 else 'Fail'\n",
    "cursor.execute(\"UPDATE student SET Marks = ?, Result = ? WHERE Name = ? AND SAP_ID = ?\",\n",
    "               (new_marks, new_result, update_name, update_sap_id))\n",
    "conn.commit()\n",
    "\n",
    "# Display updated data\n",
    "cursor.execute(\"SELECT * FROM student WHERE Name = ? AND SAP_ID = ?\", (update_name, update_sap_id))\n",
    "print(\"Updated Student Info:\", cursor.fetchall())\n",
    "\n",
    "conn.close()\n"
   ]
  },
  {
   "cell_type": "code",
   "execution_count": 7,
   "id": "84771564-011a-4881-ac14-336fa4e0aa0c",
   "metadata": {},
   "outputs": [
    {
     "name": "stdout",
     "output_type": "stream",
     "text": [
      "\n",
      "--- Student Table ---\n",
      "Name\tRoll No\tSAP ID\tProgram\tSemester\tMarks\tResult\n",
      "-------------------------------------------------------------\n",
      "Armaan\t1\tA001\tDS\tI\t\t80\tPass\n",
      "Amit\t2\tA002\tCS\tII\t\t90\tPass\n",
      "Arya\t3\tA003\tIT\tIII\t\t70\tPass\n",
      "Aryan\t4\tA004\tEXTC\tI\t\t75\tFail\n",
      "Aman\t5\tA005\tMXTC\tII\t\t10\tFail\n",
      "as\t2\tada2\tasas\t2\t\t444\tPass\n",
      "dssd\t23\tad2\tsff\t1\t\t33\tFail\n",
      "sdsd\t23\tsd1\tsdsd\t2\t\t22\tFail\n",
      "Armaan\t1\tA001\tDS\tI\t\t80\tPass\n",
      "Amit\t2\tA002\tCS\tII\t\t90\tPass\n",
      "Arya\t3\tA003\tIT\tIII\t\t70\tPass\n",
      "Aryan\t4\tA004\tEXTC\tI\t\t20\tFail\n",
      "Aman\t5\tA005\tMXTC\tII\t\t10\tFail\n",
      "Armaan\t1\tA001\tDS\tI\t\t80\tPass\n",
      "Amit\t2\tA002\tCS\tII\t\t90\tPass\n",
      "Arya\t3\tA003\tIT\tIII\t\t70\tPass\n",
      "Aryan\t4\tA004\tEXTC\tI\t\t20\tFail\n",
      "Aman\t5\tA005\tMXTC\tII\t\t10\tFail\n"
     ]
    }
   ],
   "source": [
    "import sqlite3\n",
    "\n",
    "# Connect to database (creates if doesn't exist)\n",
    "conn = sqlite3.connect('student.db')\n",
    "cursor = conn.cursor()\n",
    "\n",
    "# Create table\n",
    "cursor.execute('''\n",
    "CREATE TABLE IF NOT EXISTS student (\n",
    "    Name TEXT,\n",
    "    RollNumber INTEGER,\n",
    "    SAP_ID TEXT,\n",
    "    Program TEXT,\n",
    "    Semester TEXT,\n",
    "    Marks INTEGER,\n",
    "    Result TEXT\n",
    ")\n",
    "''')\n",
    "\n",
    "# Assume values (hardcoded for demo)\n",
    "students = [\n",
    "    ('Armaan', 1, 'A001', 'DS', 'I', 80, 'Pass'),\n",
    "    ('Amit', 2, 'A002', 'CS', 'II', 90, 'Pass'),\n",
    "    ('Arya', 3, 'A003', 'IT', 'III', 70, 'Pass'),\n",
    "    ('Aryan', 4, 'A004', 'EXTC', 'I', 20, 'Fail'),\n",
    "    ('Aman', 5, 'A005', 'MXTC', 'II', 10, 'Fail')\n",
    "]\n",
    "\n",
    "# Insert data into table\n",
    "cursor.executemany(\"INSERT INTO student VALUES (?, ?, ?, ?, ?, ?, ?)\", students)\n",
    "conn.commit()\n",
    "\n",
    "# Fetch and print all records\n",
    "cursor.execute(\"SELECT * FROM student\")\n",
    "records = cursor.fetchall()\n",
    "\n",
    "print(\"\\n--- Student Table ---\")\n",
    "print(\"Name\\tRoll No\\tSAP ID\\tProgram\\tSemester\\tMarks\\tResult\")\n",
    "print(\"-------------------------------------------------------------\")\n",
    "for row in records:\n",
    "    print(f\"{row[0]}\\t{row[1]}\\t{row[2]}\\t{row[3]}\\t{row[4]}\\t\\t{row[5]}\\t{row[6]}\")\n",
    "\n",
    "# Close connection\n",
    "conn.close()"
   ]
  },
  {
   "cell_type": "code",
   "execution_count": 8,
   "id": "771a0404-ed0b-471c-b072-51b186f72287",
   "metadata": {},
   "outputs": [
    {
     "data": {
      "text/html": [
       "<div>\n",
       "<style scoped>\n",
       "    .dataframe tbody tr th:only-of-type {\n",
       "        vertical-align: middle;\n",
       "    }\n",
       "\n",
       "    .dataframe tbody tr th {\n",
       "        vertical-align: top;\n",
       "    }\n",
       "\n",
       "    .dataframe thead th {\n",
       "        text-align: right;\n",
       "    }\n",
       "</style>\n",
       "<table border=\"1\" class=\"dataframe\">\n",
       "  <thead>\n",
       "    <tr style=\"text-align: right;\">\n",
       "      <th></th>\n",
       "      <th>Name</th>\n",
       "      <th>Degree</th>\n",
       "      <th>Score</th>\n",
       "    </tr>\n",
       "  </thead>\n",
       "  <tbody>\n",
       "    <tr>\n",
       "      <th>0</th>\n",
       "      <td>tejas</td>\n",
       "      <td>cs</td>\n",
       "      <td>22</td>\n",
       "    </tr>\n",
       "    <tr>\n",
       "      <th>1</th>\n",
       "      <td>gauir</td>\n",
       "      <td>arts</td>\n",
       "      <td>99</td>\n",
       "    </tr>\n",
       "  </tbody>\n",
       "</table>\n",
       "</div>"
      ],
      "text/plain": [
       "    Name Degree  Score\n",
       "0  tejas     cs     22\n",
       "1  gauir   arts     99"
      ]
     },
     "execution_count": 8,
     "metadata": {},
     "output_type": "execute_result"
    }
   ],
   "source": [
    "#zip is o zip together multiple lists to create a dataframe or more cols\n",
    "\n",
    "import pandas as pd\n",
    "\n",
    "name = [\"tejas\", \"gauir\"]\n",
    "deg = ['cs', 'arts']\n",
    "scr = [22, 99]\n",
    "df = pd.DataFrame(list(zip(name, deg, scr)), columns=['Name', \"Degree\", 'Score'])\n",
    "df"
   ]
  },
  {
   "cell_type": "code",
   "execution_count": null,
   "id": "fd5c0cbd-3343-4621-a6cd-9924d599b44f",
   "metadata": {},
   "outputs": [],
   "source": []
  }
 ],
 "metadata": {
  "kernelspec": {
   "display_name": "Python 3 (ipykernel)",
   "language": "python",
   "name": "python3"
  },
  "language_info": {
   "codemirror_mode": {
    "name": "ipython",
    "version": 3
   },
   "file_extension": ".py",
   "mimetype": "text/x-python",
   "name": "python",
   "nbconvert_exporter": "python",
   "pygments_lexer": "ipython3",
   "version": "3.12.2"
  }
 },
 "nbformat": 4,
 "nbformat_minor": 5
}
